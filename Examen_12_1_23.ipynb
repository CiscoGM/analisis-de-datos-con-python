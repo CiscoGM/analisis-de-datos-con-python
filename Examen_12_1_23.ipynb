{
  "cells": [
    {
      "cell_type": "code",
      "execution_count": 2,
      "metadata": {
        "colab": {
          "base_uri": "https://localhost:8080/",
          "height": 424
        },
        "id": "zwjHydN9Nmrp",
        "outputId": "4b7fd229-86c7-443d-80fc-95b05efb96a8"
      },
      "outputs": [
        {
          "data": {
            "text/html": [
              "<div>\n",
              "<style scoped>\n",
              "    .dataframe tbody tr th:only-of-type {\n",
              "        vertical-align: middle;\n",
              "    }\n",
              "\n",
              "    .dataframe tbody tr th {\n",
              "        vertical-align: top;\n",
              "    }\n",
              "\n",
              "    .dataframe thead th {\n",
              "        text-align: right;\n",
              "    }\n",
              "</style>\n",
              "<table border=\"1\" class=\"dataframe\">\n",
              "  <thead>\n",
              "    <tr style=\"text-align: right;\">\n",
              "      <th></th>\n",
              "      <th>Clump Thickness</th>\n",
              "      <th>Uniformity of Cell Size</th>\n",
              "      <th>Uniformity of Cell Shape</th>\n",
              "      <th>Marginal Adhesion</th>\n",
              "      <th>Single Epithelial Cell Size</th>\n",
              "      <th>Bare Nuclei</th>\n",
              "      <th>Bland Chromatin</th>\n",
              "      <th>Normal Nucleoli</th>\n",
              "      <th>Mitoses</th>\n",
              "      <th>Class</th>\n",
              "    </tr>\n",
              "  </thead>\n",
              "  <tbody>\n",
              "    <tr>\n",
              "      <th>0</th>\n",
              "      <td>5</td>\n",
              "      <td>1</td>\n",
              "      <td>1</td>\n",
              "      <td>1</td>\n",
              "      <td>2.0</td>\n",
              "      <td>1</td>\n",
              "      <td>3</td>\n",
              "      <td>1</td>\n",
              "      <td>1</td>\n",
              "      <td>Benign</td>\n",
              "    </tr>\n",
              "    <tr>\n",
              "      <th>1</th>\n",
              "      <td>5</td>\n",
              "      <td>4</td>\n",
              "      <td>4</td>\n",
              "      <td>5</td>\n",
              "      <td>7.0</td>\n",
              "      <td>10</td>\n",
              "      <td>3</td>\n",
              "      <td>2</td>\n",
              "      <td>1</td>\n",
              "      <td>Benign</td>\n",
              "    </tr>\n",
              "    <tr>\n",
              "      <th>2</th>\n",
              "      <td>3</td>\n",
              "      <td>1</td>\n",
              "      <td>1</td>\n",
              "      <td>1</td>\n",
              "      <td>2.0</td>\n",
              "      <td>2</td>\n",
              "      <td>3</td>\n",
              "      <td>1</td>\n",
              "      <td>1</td>\n",
              "      <td>Benign</td>\n",
              "    </tr>\n",
              "    <tr>\n",
              "      <th>3</th>\n",
              "      <td>6</td>\n",
              "      <td>8</td>\n",
              "      <td>8</td>\n",
              "      <td>1</td>\n",
              "      <td>3.0</td>\n",
              "      <td>4</td>\n",
              "      <td>3</td>\n",
              "      <td>7</td>\n",
              "      <td>1</td>\n",
              "      <td>Benign</td>\n",
              "    </tr>\n",
              "    <tr>\n",
              "      <th>4</th>\n",
              "      <td>4</td>\n",
              "      <td>1</td>\n",
              "      <td>1</td>\n",
              "      <td>3</td>\n",
              "      <td>2.0</td>\n",
              "      <td>1</td>\n",
              "      <td>3</td>\n",
              "      <td>1</td>\n",
              "      <td>1</td>\n",
              "      <td>Benign</td>\n",
              "    </tr>\n",
              "    <tr>\n",
              "      <th>...</th>\n",
              "      <td>...</td>\n",
              "      <td>...</td>\n",
              "      <td>...</td>\n",
              "      <td>...</td>\n",
              "      <td>...</td>\n",
              "      <td>...</td>\n",
              "      <td>...</td>\n",
              "      <td>...</td>\n",
              "      <td>...</td>\n",
              "      <td>...</td>\n",
              "    </tr>\n",
              "    <tr>\n",
              "      <th>694</th>\n",
              "      <td>3</td>\n",
              "      <td>1</td>\n",
              "      <td>1</td>\n",
              "      <td>1</td>\n",
              "      <td>3.0</td>\n",
              "      <td>2</td>\n",
              "      <td>1</td>\n",
              "      <td>1</td>\n",
              "      <td>1</td>\n",
              "      <td>Benign</td>\n",
              "    </tr>\n",
              "    <tr>\n",
              "      <th>695</th>\n",
              "      <td>2</td>\n",
              "      <td>1</td>\n",
              "      <td>1</td>\n",
              "      <td>1</td>\n",
              "      <td>2.0</td>\n",
              "      <td>1</td>\n",
              "      <td>1</td>\n",
              "      <td>1</td>\n",
              "      <td>1</td>\n",
              "      <td>Benign</td>\n",
              "    </tr>\n",
              "    <tr>\n",
              "      <th>696</th>\n",
              "      <td>5</td>\n",
              "      <td>10</td>\n",
              "      <td>10</td>\n",
              "      <td>3</td>\n",
              "      <td>7.0</td>\n",
              "      <td>3</td>\n",
              "      <td>8</td>\n",
              "      <td>10</td>\n",
              "      <td>2</td>\n",
              "      <td>malignant</td>\n",
              "    </tr>\n",
              "    <tr>\n",
              "      <th>697</th>\n",
              "      <td>4</td>\n",
              "      <td>8</td>\n",
              "      <td>6</td>\n",
              "      <td>4</td>\n",
              "      <td>3.0</td>\n",
              "      <td>4</td>\n",
              "      <td>10</td>\n",
              "      <td>6</td>\n",
              "      <td>1</td>\n",
              "      <td>malignant</td>\n",
              "    </tr>\n",
              "    <tr>\n",
              "      <th>698</th>\n",
              "      <td>4</td>\n",
              "      <td>8</td>\n",
              "      <td>8</td>\n",
              "      <td>5</td>\n",
              "      <td>4.0</td>\n",
              "      <td>5</td>\n",
              "      <td>10</td>\n",
              "      <td>4</td>\n",
              "      <td>1</td>\n",
              "      <td>malignant</td>\n",
              "    </tr>\n",
              "  </tbody>\n",
              "</table>\n",
              "<p>699 rows × 10 columns</p>\n",
              "</div>"
            ],
            "text/plain": [
              "    Clump Thickness  Uniformity of Cell Size Uniformity of Cell Shape  \\\n",
              "0                 5                        1                        1   \n",
              "1                 5                        4                        4   \n",
              "2                 3                        1                        1   \n",
              "3                 6                        8                        8   \n",
              "4                 4                        1                        1   \n",
              "..              ...                      ...                      ...   \n",
              "694               3                        1                        1   \n",
              "695               2                        1                        1   \n",
              "696               5                       10                       10   \n",
              "697               4                        8                        6   \n",
              "698               4                        8                        8   \n",
              "\n",
              "    Marginal Adhesion  Single Epithelial Cell Size Bare Nuclei  \\\n",
              "0                   1                          2.0           1   \n",
              "1                   5                          7.0          10   \n",
              "2                   1                          2.0           2   \n",
              "3                   1                          3.0           4   \n",
              "4                   3                          2.0           1   \n",
              "..                ...                          ...         ...   \n",
              "694                 1                          3.0           2   \n",
              "695                 1                          2.0           1   \n",
              "696                 3                          7.0           3   \n",
              "697                 4                          3.0           4   \n",
              "698                 5                          4.0           5   \n",
              "\n",
              "    Bland Chromatin  Normal Nucleoli Mitoses      Class  \n",
              "0                 3                1       1     Benign  \n",
              "1                 3                2       1     Benign  \n",
              "2                 3                1       1     Benign  \n",
              "3                 3                7       1     Benign  \n",
              "4                 3                1       1     Benign  \n",
              "..              ...              ...     ...        ...  \n",
              "694               1                1       1     Benign  \n",
              "695               1                1       1     Benign  \n",
              "696               8               10       2  malignant  \n",
              "697              10                6       1  malignant  \n",
              "698              10                4       1  malignant  \n",
              "\n",
              "[699 rows x 10 columns]"
            ]
          },
          "execution_count": 2,
          "metadata": {},
          "output_type": "execute_result"
        }
      ],
      "source": [
        "import pandas as pd\n",
        "df=pd.read_csv(\"datasets\\\\breast-cancer-wisconsin_train.csv\",sep=',',header=0)\n",
        "df\n",
        "\n"
      ]
    },
    {
      "cell_type": "code",
      "execution_count": 3,
      "metadata": {
        "colab": {
          "base_uri": "https://localhost:8080/"
        },
        "id": "aVLy7IwIe3Ff",
        "outputId": "a86ed83f-0ec0-4cda-8a74-e4d9ee796a94"
      },
      "outputs": [
        {
          "data": {
            "text/plain": [
              "Clump Thickness  Uniformity of Cell Size  Uniformity of Cell Shape  Marginal Adhesion  Single Epithelial Cell Size  Bare Nuclei  Bland Chromatin  Normal Nucleoli  Mitoses  Class    \n",
              "1                1                        1                         1                  2.0                          1            1                1                1        Benign       26\n",
              "                                                                                                                                 3                1                1        Benign       22\n",
              "                                                                                                                                 2                1                1        Benign       21\n",
              "3                1                        1                         1                  2.0                          1            2                1                1        Benign       20\n",
              "                                                                                                                                 1                1                1        Benign       11\n",
              "                                                                                                                                                                                         ..\n",
              "                                                                                                                    2            3                1                1        Benign        1\n",
              "                                                                                                                    1            3                2                1        Benign        1\n",
              "                                                                                                                                 2                3                1        Benign        1\n",
              "                                                                                                                                                  2                1        Benign        1\n",
              "9                10                       10                        10                 10.0                         5            10               10               10       malignant     1\n",
              "Name: count, Length: 465, dtype: int64"
            ]
          },
          "execution_count": 3,
          "metadata": {},
          "output_type": "execute_result"
        }
      ],
      "source": [
        "df.value_counts()"
      ]
    },
    {
      "cell_type": "code",
      "execution_count": 4,
      "metadata": {
        "colab": {
          "base_uri": "https://localhost:8080/"
        },
        "id": "kwXuTz17PgcT",
        "outputId": "201e854e-1202-4f0b-c5a6-2ea9405e3663"
      },
      "outputs": [
        {
          "data": {
            "text/plain": [
              "Clump Thickness                1\n",
              "Uniformity of Cell Size        0\n",
              "Uniformity of Cell Shape       0\n",
              "Marginal Adhesion              1\n",
              "Single Epithelial Cell Size    1\n",
              "Bare Nuclei                    1\n",
              "Bland Chromatin                0\n",
              "Normal Nucleoli                0\n",
              "Mitoses                        0\n",
              "Class                          1\n",
              "dtype: int64"
            ]
          },
          "execution_count": 4,
          "metadata": {},
          "output_type": "execute_result"
        }
      ],
      "source": [
        "df.isna().sum()"
      ]
    },
    {
      "cell_type": "code",
      "execution_count": 5,
      "metadata": {
        "colab": {
          "base_uri": "https://localhost:8080/",
          "height": 944
        },
        "id": "VH-0N7U6Zafb",
        "outputId": "e3bf612c-9b34-4719-bb3c-8bbb1de6d08f"
      },
      "outputs": [
        {
          "data": {
            "text/plain": [
              "<Axes: >"
            ]
          },
          "execution_count": 5,
          "metadata": {},
          "output_type": "execute_result"
        },
        {
          "data": {
            "image/png": "[encoded data removed]",
            "text/plain": [
              "<Figure size 2500x1000 with 2 Axes>"
            ]
          },
          "metadata": {},
          "output_type": "display_data"
        }
      ],
      "source": [
        "import missingno as msno\n",
        "msno.matrix(df)"
      ]
    },
    {
      "cell_type": "code",
      "execution_count": 6,
      "metadata": {
        "colab": {
          "base_uri": "https://localhost:8080/"
        },
        "id": "PabBKzYLP0WN",
        "outputId": "264331a8-b024-4e75-bb13-2c9f900a4cef"
      },
      "outputs": [
        {
          "data": {
            "text/plain": [
              "Clump Thickness                 object\n",
              "Uniformity of Cell Size          int64\n",
              "Uniformity of Cell Shape        object\n",
              "Marginal Adhesion               object\n",
              "Single Epithelial Cell Size    float64\n",
              "Bare Nuclei                     object\n",
              "Bland Chromatin                 object\n",
              "Normal Nucleoli                  int64\n",
              "Mitoses                         object\n",
              "Class                           object\n",
              "dtype: object"
            ]
          },
          "execution_count": 6,
          "metadata": {},
          "output_type": "execute_result"
        }
      ],
      "source": [
        "df.dtypes"
      ]
    },
    {
      "cell_type": "code",
      "execution_count": null,
      "metadata": {
        "id": "-Tu34sLZbtfz"
      },
      "outputs": [],
      "source": []
    },
    {
      "cell_type": "code",
      "execution_count": 7,
      "metadata": {
        "colab": {
          "base_uri": "https://localhost:8080/"
        },
        "id": "7gGAj96bbscJ",
        "outputId": "bc218140-b328-4c3b-ec5d-92f66f30ddd8"
      },
      "outputs": [
        {
          "data": {
            "text/plain": [
              "Clump Thickness                False\n",
              "Uniformity of Cell Size        False\n",
              "Uniformity of Cell Shape       False\n",
              "Marginal Adhesion              False\n",
              "Single Epithelial Cell Size    False\n",
              "Bare Nuclei                    False\n",
              "Bland Chromatin                False\n",
              "Normal Nucleoli                False\n",
              "Mitoses                        False\n",
              "Class                          False\n",
              "dtype: bool"
            ]
          },
          "execution_count": 7,
          "metadata": {},
          "output_type": "execute_result"
        }
      ],
      "source": [
        "\n",
        "df = df.replace('?', df.mode().iloc[0])\n",
        "(df == '?').any()\n",
        "\n",
        "\n",
        "df = df.replace('*', df.mode().iloc[0])\n",
        "(df == '*').any()\n",
        "\n",
        "df = df.replace(' ', df.mode().iloc[0])\n",
        "(df == ' ').any()\n",
        "\n"
      ]
    },
    {
      "cell_type": "code",
      "execution_count": 8,
      "metadata": {
        "id": "LXvt2juaQbKR"
      },
      "outputs": [],
      "source": [
        "df['Clump Thickness'] = pd.to_numeric(df['Clump Thickness'], errors='coerce')\n",
        "df['Clump Thickness'] = df['Clump Thickness'].astype('Int64')\n",
        "\n",
        "df['Uniformity of Cell Size'] = pd.to_numeric(df['Uniformity of Cell Size'], errors='coerce')\n",
        "df['Uniformity of Cell Size'] = df['Uniformity of Cell Size'].astype('Int64')\n",
        "\n",
        "df['Uniformity of Cell Shape'] = pd.to_numeric(df['Uniformity of Cell Shape'], errors='coerce')\n",
        "df['Uniformity of Cell Shape'] = df['Uniformity of Cell Shape'].astype('Int64')\n",
        "\n",
        "df['Marginal Adhesion'] = pd.to_numeric(df['Marginal Adhesion'], errors='coerce')\n",
        "df['Marginal Adhesion'] = df['Marginal Adhesion'].astype('Int64')\n",
        "\n",
        "\n",
        "df['Bare Nuclei'] = pd.to_numeric(df['Bare Nuclei'], errors='coerce')\n",
        "df['Bare Nuclei'] = df['Bare Nuclei'].astype('Int64')\n",
        "\n",
        "\n",
        "df['Bland Chromatin'] = pd.to_numeric(df['Bland Chromatin'], errors='coerce')\n",
        "df['Bland Chromatin'] = df['Bland Chromatin'].astype('Int64')\n",
        "\n",
        "\n",
        "df['Mitoses'] = pd.to_numeric(df['Mitoses'], errors='coerce')\n",
        "df['Mitoses'] = df['Mitoses'].astype('Int64')\n"
      ]
    },
    {
      "cell_type": "code",
      "execution_count": 9,
      "metadata": {
        "id": "BLX0dFZBVF0-"
      },
      "outputs": [],
      "source": [
        "df['Clump Thickness'].fillna(df['Clump Thickness'].mode()[0], inplace=True)\n",
        "df['Marginal Adhesion'].fillna(df['Marginal Adhesion'].mode()[0], inplace=True)\n",
        "df['Single Epithelial Cell Size'].fillna(df['Single Epithelial Cell Size'].mode()[0], inplace=True)\n",
        "df['Bare Nuclei'].fillna(df['Bare Nuclei'].mode()[0], inplace=True)\n",
        "df['Uniformity of Cell Shape'].fillna(df['Uniformity of Cell Shape'].mode()[0], inplace=True)\n",
        "df['Bland Chromatin'].fillna(df['Bland Chromatin'].mode()[0], inplace=True)\n",
        "df['Mitoses'].fillna(df['Mitoses'].mode()[0], inplace=True)\n",
        "df['Class'].fillna(df['Class'].mode()[0], inplace=True)"
      ]
    },
    {
      "cell_type": "code",
      "execution_count": null,
      "metadata": {
        "id": "MaY8j6fkYgol"
      },
      "outputs": [],
      "source": []
    },
    {
      "cell_type": "code",
      "execution_count": 10,
      "metadata": {
        "colab": {
          "base_uri": "https://localhost:8080/",
          "height": 424
        },
        "id": "FwgWsTnqTdVM",
        "outputId": "224f0bc4-e6a5-4082-895b-ef569a9296d5"
      },
      "outputs": [
        {
          "data": {
            "text/html": [
              "<div>\n",
              "<style scoped>\n",
              "    .dataframe tbody tr th:only-of-type {\n",
              "        vertical-align: middle;\n",
              "    }\n",
              "\n",
              "    .dataframe tbody tr th {\n",
              "        vertical-align: top;\n",
              "    }\n",
              "\n",
              "    .dataframe thead th {\n",
              "        text-align: right;\n",
              "    }\n",
              "</style>\n",
              "<table border=\"1\" class=\"dataframe\">\n",
              "  <thead>\n",
              "    <tr style=\"text-align: right;\">\n",
              "      <th></th>\n",
              "      <th>Clump Thickness</th>\n",
              "      <th>Uniformity of Cell Size</th>\n",
              "      <th>Uniformity of Cell Shape</th>\n",
              "      <th>Marginal Adhesion</th>\n",
              "      <th>Single Epithelial Cell Size</th>\n",
              "      <th>Bare Nuclei</th>\n",
              "      <th>Bland Chromatin</th>\n",
              "      <th>Normal Nucleoli</th>\n",
              "      <th>Mitoses</th>\n",
              "      <th>Class</th>\n",
              "    </tr>\n",
              "  </thead>\n",
              "  <tbody>\n",
              "    <tr>\n",
              "      <th>0</th>\n",
              "      <td>5</td>\n",
              "      <td>1</td>\n",
              "      <td>1</td>\n",
              "      <td>1</td>\n",
              "      <td>2.0</td>\n",
              "      <td>1</td>\n",
              "      <td>3</td>\n",
              "      <td>1</td>\n",
              "      <td>1</td>\n",
              "      <td>Benign</td>\n",
              "    </tr>\n",
              "    <tr>\n",
              "      <th>1</th>\n",
              "      <td>5</td>\n",
              "      <td>4</td>\n",
              "      <td>4</td>\n",
              "      <td>5</td>\n",
              "      <td>7.0</td>\n",
              "      <td>10</td>\n",
              "      <td>3</td>\n",
              "      <td>2</td>\n",
              "      <td>1</td>\n",
              "      <td>Benign</td>\n",
              "    </tr>\n",
              "    <tr>\n",
              "      <th>2</th>\n",
              "      <td>3</td>\n",
              "      <td>1</td>\n",
              "      <td>1</td>\n",
              "      <td>1</td>\n",
              "      <td>2.0</td>\n",
              "      <td>2</td>\n",
              "      <td>3</td>\n",
              "      <td>1</td>\n",
              "      <td>1</td>\n",
              "      <td>Benign</td>\n",
              "    </tr>\n",
              "    <tr>\n",
              "      <th>3</th>\n",
              "      <td>6</td>\n",
              "      <td>8</td>\n",
              "      <td>8</td>\n",
              "      <td>1</td>\n",
              "      <td>3.0</td>\n",
              "      <td>4</td>\n",
              "      <td>3</td>\n",
              "      <td>7</td>\n",
              "      <td>1</td>\n",
              "      <td>Benign</td>\n",
              "    </tr>\n",
              "    <tr>\n",
              "      <th>4</th>\n",
              "      <td>4</td>\n",
              "      <td>1</td>\n",
              "      <td>1</td>\n",
              "      <td>3</td>\n",
              "      <td>2.0</td>\n",
              "      <td>1</td>\n",
              "      <td>3</td>\n",
              "      <td>1</td>\n",
              "      <td>1</td>\n",
              "      <td>Benign</td>\n",
              "    </tr>\n",
              "    <tr>\n",
              "      <th>...</th>\n",
              "      <td>...</td>\n",
              "      <td>...</td>\n",
              "      <td>...</td>\n",
              "      <td>...</td>\n",
              "      <td>...</td>\n",
              "      <td>...</td>\n",
              "      <td>...</td>\n",
              "      <td>...</td>\n",
              "      <td>...</td>\n",
              "      <td>...</td>\n",
              "    </tr>\n",
              "    <tr>\n",
              "      <th>195</th>\n",
              "      <td>4</td>\n",
              "      <td>1</td>\n",
              "      <td>1</td>\n",
              "      <td>1</td>\n",
              "      <td>2.0</td>\n",
              "      <td>1</td>\n",
              "      <td>3</td>\n",
              "      <td>1</td>\n",
              "      <td>1</td>\n",
              "      <td>Benign</td>\n",
              "    </tr>\n",
              "    <tr>\n",
              "      <th>196</th>\n",
              "      <td>8</td>\n",
              "      <td>4</td>\n",
              "      <td>4</td>\n",
              "      <td>5</td>\n",
              "      <td>4.0</td>\n",
              "      <td>7</td>\n",
              "      <td>7</td>\n",
              "      <td>8</td>\n",
              "      <td>2</td>\n",
              "      <td>Benign</td>\n",
              "    </tr>\n",
              "    <tr>\n",
              "      <th>197</th>\n",
              "      <td>5</td>\n",
              "      <td>1</td>\n",
              "      <td>1</td>\n",
              "      <td>4</td>\n",
              "      <td>2.0</td>\n",
              "      <td>1</td>\n",
              "      <td>3</td>\n",
              "      <td>1</td>\n",
              "      <td>1</td>\n",
              "      <td>Benign</td>\n",
              "    </tr>\n",
              "    <tr>\n",
              "      <th>198</th>\n",
              "      <td>1</td>\n",
              "      <td>1</td>\n",
              "      <td>1</td>\n",
              "      <td>1</td>\n",
              "      <td>2.0</td>\n",
              "      <td>1</td>\n",
              "      <td>1</td>\n",
              "      <td>1</td>\n",
              "      <td>1</td>\n",
              "      <td>Benign</td>\n",
              "    </tr>\n",
              "    <tr>\n",
              "      <th>199</th>\n",
              "      <td>3</td>\n",
              "      <td>1</td>\n",
              "      <td>1</td>\n",
              "      <td>1</td>\n",
              "      <td>2.0</td>\n",
              "      <td>1</td>\n",
              "      <td>2</td>\n",
              "      <td>1</td>\n",
              "      <td>1</td>\n",
              "      <td>Benign</td>\n",
              "    </tr>\n",
              "  </tbody>\n",
              "</table>\n",
              "<p>200 rows × 10 columns</p>\n",
              "</div>"
            ],
            "text/plain": [
              "     Clump Thickness  Uniformity of Cell Size  Uniformity of Cell Shape  \\\n",
              "0                  5                        1                         1   \n",
              "1                  5                        4                         4   \n",
              "2                  3                        1                         1   \n",
              "3                  6                        8                         8   \n",
              "4                  4                        1                         1   \n",
              "..               ...                      ...                       ...   \n",
              "195                4                        1                         1   \n",
              "196                8                        4                         4   \n",
              "197                5                        1                         1   \n",
              "198                1                        1                         1   \n",
              "199                3                        1                         1   \n",
              "\n",
              "     Marginal Adhesion  Single Epithelial Cell Size  Bare Nuclei  \\\n",
              "0                    1                          2.0            1   \n",
              "1                    5                          7.0           10   \n",
              "2                    1                          2.0            2   \n",
              "3                    1                          3.0            4   \n",
              "4                    3                          2.0            1   \n",
              "..                 ...                          ...          ...   \n",
              "195                  1                          2.0            1   \n",
              "196                  5                          4.0            7   \n",
              "197                  4                          2.0            1   \n",
              "198                  1                          2.0            1   \n",
              "199                  1                          2.0            1   \n",
              "\n",
              "     Bland Chromatin  Normal Nucleoli  Mitoses   Class  \n",
              "0                  3                1        1  Benign  \n",
              "1                  3                2        1  Benign  \n",
              "2                  3                1        1  Benign  \n",
              "3                  3                7        1  Benign  \n",
              "4                  3                1        1  Benign  \n",
              "..               ...              ...      ...     ...  \n",
              "195                3                1        1  Benign  \n",
              "196                7                8        2  Benign  \n",
              "197                3                1        1  Benign  \n",
              "198                1                1        1  Benign  \n",
              "199                2                1        1  Benign  \n",
              "\n",
              "[200 rows x 10 columns]"
            ]
          },
          "execution_count": 10,
          "metadata": {},
          "output_type": "execute_result"
        }
      ],
      "source": [
        "df.head(200)"
      ]
    },
    {
      "cell_type": "code",
      "execution_count": 11,
      "metadata": {
        "colab": {
          "base_uri": "https://localhost:8080/"
        },
        "id": "libo8nGiSm8n",
        "outputId": "db66c936-f5d2-404e-c070-32308dbabc96"
      },
      "outputs": [
        {
          "data": {
            "text/plain": [
              "Clump Thickness                0\n",
              "Uniformity of Cell Size        0\n",
              "Uniformity of Cell Shape       0\n",
              "Marginal Adhesion              0\n",
              "Single Epithelial Cell Size    0\n",
              "Bare Nuclei                    0\n",
              "Bland Chromatin                0\n",
              "Normal Nucleoli                0\n",
              "Mitoses                        0\n",
              "Class                          0\n",
              "dtype: int64"
            ]
          },
          "execution_count": 11,
          "metadata": {},
          "output_type": "execute_result"
        }
      ],
      "source": [
        "df.isna().sum()"
      ]
    },
    {
      "cell_type": "code",
      "execution_count": 12,
      "metadata": {
        "colab": {
          "base_uri": "https://localhost:8080/",
          "height": 944
        },
        "id": "naPmeDF9ZXzG",
        "outputId": "a4bce6f4-53be-42cc-d6ed-e42781d30ccf"
      },
      "outputs": [
        {
          "data": {
            "text/plain": [
              "<Axes: >"
            ]
          },
          "execution_count": 12,
          "metadata": {},
          "output_type": "execute_result"
        },
        {
          "data": {
            "image/png": "[encoded data removed]",
            "text/plain": [
              "<Figure size 2500x1000 with 2 Axes>"
            ]
          },
          "metadata": {},
          "output_type": "display_data"
        }
      ],
      "source": [
        "\n",
        "msno.matrix(df)"
      ]
    },
    {
      "cell_type": "code",
      "execution_count": 13,
      "metadata": {
        "colab": {
          "base_uri": "https://localhost:8080/",
          "height": 363
        },
        "id": "e8MLSckzP8pi",
        "outputId": "e9511304-8a97-4ea7-fc33-4de156e3335f"
      },
      "outputs": [
        {
          "data": {
            "text/html": [
              "<div>\n",
              "<style scoped>\n",
              "    .dataframe tbody tr th:only-of-type {\n",
              "        vertical-align: middle;\n",
              "    }\n",
              "\n",
              "    .dataframe tbody tr th {\n",
              "        vertical-align: top;\n",
              "    }\n",
              "\n",
              "    .dataframe thead th {\n",
              "        text-align: right;\n",
              "    }\n",
              "</style>\n",
              "<table border=\"1\" class=\"dataframe\">\n",
              "  <thead>\n",
              "    <tr style=\"text-align: right;\">\n",
              "      <th></th>\n",
              "      <th>count</th>\n",
              "      <th>unique</th>\n",
              "      <th>top</th>\n",
              "      <th>freq</th>\n",
              "      <th>mean</th>\n",
              "      <th>std</th>\n",
              "      <th>min</th>\n",
              "      <th>25%</th>\n",
              "      <th>50%</th>\n",
              "      <th>75%</th>\n",
              "      <th>max</th>\n",
              "    </tr>\n",
              "  </thead>\n",
              "  <tbody>\n",
              "    <tr>\n",
              "      <th>Clump Thickness</th>\n",
              "      <td>699.0</td>\n",
              "      <td>&lt;NA&gt;</td>\n",
              "      <td>&lt;NA&gt;</td>\n",
              "      <td>&lt;NA&gt;</td>\n",
              "      <td>4.409156</td>\n",
              "      <td>2.821068</td>\n",
              "      <td>1.0</td>\n",
              "      <td>2.0</td>\n",
              "      <td>4.0</td>\n",
              "      <td>6.0</td>\n",
              "      <td>10.0</td>\n",
              "    </tr>\n",
              "    <tr>\n",
              "      <th>Uniformity of Cell Size</th>\n",
              "      <td>699.0</td>\n",
              "      <td>&lt;NA&gt;</td>\n",
              "      <td>&lt;NA&gt;</td>\n",
              "      <td>&lt;NA&gt;</td>\n",
              "      <td>3.134478</td>\n",
              "      <td>3.051459</td>\n",
              "      <td>1.0</td>\n",
              "      <td>1.0</td>\n",
              "      <td>1.0</td>\n",
              "      <td>5.0</td>\n",
              "      <td>10.0</td>\n",
              "    </tr>\n",
              "    <tr>\n",
              "      <th>Uniformity of Cell Shape</th>\n",
              "      <td>699.0</td>\n",
              "      <td>&lt;NA&gt;</td>\n",
              "      <td>&lt;NA&gt;</td>\n",
              "      <td>&lt;NA&gt;</td>\n",
              "      <td>3.203147</td>\n",
              "      <td>2.972933</td>\n",
              "      <td>1.0</td>\n",
              "      <td>1.0</td>\n",
              "      <td>1.0</td>\n",
              "      <td>5.0</td>\n",
              "      <td>10.0</td>\n",
              "    </tr>\n",
              "    <tr>\n",
              "      <th>Marginal Adhesion</th>\n",
              "      <td>699.0</td>\n",
              "      <td>&lt;NA&gt;</td>\n",
              "      <td>&lt;NA&gt;</td>\n",
              "      <td>&lt;NA&gt;</td>\n",
              "      <td>2.806867</td>\n",
              "      <td>2.855379</td>\n",
              "      <td>1.0</td>\n",
              "      <td>1.0</td>\n",
              "      <td>1.0</td>\n",
              "      <td>4.0</td>\n",
              "      <td>10.0</td>\n",
              "    </tr>\n",
              "    <tr>\n",
              "      <th>Single Epithelial Cell Size</th>\n",
              "      <td>699.0</td>\n",
              "      <td>NaN</td>\n",
              "      <td>NaN</td>\n",
              "      <td>NaN</td>\n",
              "      <td>3.214592</td>\n",
              "      <td>2.214763</td>\n",
              "      <td>1.0</td>\n",
              "      <td>2.0</td>\n",
              "      <td>2.0</td>\n",
              "      <td>4.0</td>\n",
              "      <td>10.0</td>\n",
              "    </tr>\n",
              "    <tr>\n",
              "      <th>Bare Nuclei</th>\n",
              "      <td>699.0</td>\n",
              "      <td>&lt;NA&gt;</td>\n",
              "      <td>&lt;NA&gt;</td>\n",
              "      <td>&lt;NA&gt;</td>\n",
              "      <td>3.473534</td>\n",
              "      <td>3.61473</td>\n",
              "      <td>1.0</td>\n",
              "      <td>1.0</td>\n",
              "      <td>1.0</td>\n",
              "      <td>5.0</td>\n",
              "      <td>10.0</td>\n",
              "    </tr>\n",
              "    <tr>\n",
              "      <th>Bland Chromatin</th>\n",
              "      <td>699.0</td>\n",
              "      <td>&lt;NA&gt;</td>\n",
              "      <td>&lt;NA&gt;</td>\n",
              "      <td>&lt;NA&gt;</td>\n",
              "      <td>3.436338</td>\n",
              "      <td>2.438915</td>\n",
              "      <td>1.0</td>\n",
              "      <td>2.0</td>\n",
              "      <td>3.0</td>\n",
              "      <td>5.0</td>\n",
              "      <td>10.0</td>\n",
              "    </tr>\n",
              "    <tr>\n",
              "      <th>Normal Nucleoli</th>\n",
              "      <td>699.0</td>\n",
              "      <td>NaN</td>\n",
              "      <td>NaN</td>\n",
              "      <td>NaN</td>\n",
              "      <td>2.866953</td>\n",
              "      <td>3.053634</td>\n",
              "      <td>1.0</td>\n",
              "      <td>1.0</td>\n",
              "      <td>1.0</td>\n",
              "      <td>4.0</td>\n",
              "      <td>10.0</td>\n",
              "    </tr>\n",
              "    <tr>\n",
              "      <th>Mitoses</th>\n",
              "      <td>699.0</td>\n",
              "      <td>&lt;NA&gt;</td>\n",
              "      <td>&lt;NA&gt;</td>\n",
              "      <td>&lt;NA&gt;</td>\n",
              "      <td>1.587983</td>\n",
              "      <td>1.715152</td>\n",
              "      <td>1.0</td>\n",
              "      <td>1.0</td>\n",
              "      <td>1.0</td>\n",
              "      <td>1.0</td>\n",
              "      <td>10.0</td>\n",
              "    </tr>\n",
              "    <tr>\n",
              "      <th>Class</th>\n",
              "      <td>699</td>\n",
              "      <td>2</td>\n",
              "      <td>Benign</td>\n",
              "      <td>458</td>\n",
              "      <td>NaN</td>\n",
              "      <td>NaN</td>\n",
              "      <td>NaN</td>\n",
              "      <td>NaN</td>\n",
              "      <td>NaN</td>\n",
              "      <td>NaN</td>\n",
              "      <td>NaN</td>\n",
              "    </tr>\n",
              "  </tbody>\n",
              "</table>\n",
              "</div>"
            ],
            "text/plain": [
              "                             count unique     top  freq      mean       std  \\\n",
              "Clump Thickness              699.0   <NA>    <NA>  <NA>  4.409156  2.821068   \n",
              "Uniformity of Cell Size      699.0   <NA>    <NA>  <NA>  3.134478  3.051459   \n",
              "Uniformity of Cell Shape     699.0   <NA>    <NA>  <NA>  3.203147  2.972933   \n",
              "Marginal Adhesion            699.0   <NA>    <NA>  <NA>  2.806867  2.855379   \n",
              "Single Epithelial Cell Size  699.0    NaN     NaN   NaN  3.214592  2.214763   \n",
              "Bare Nuclei                  699.0   <NA>    <NA>  <NA>  3.473534   3.61473   \n",
              "Bland Chromatin              699.0   <NA>    <NA>  <NA>  3.436338  2.438915   \n",
              "Normal Nucleoli              699.0    NaN     NaN   NaN  2.866953  3.053634   \n",
              "Mitoses                      699.0   <NA>    <NA>  <NA>  1.587983  1.715152   \n",
              "Class                          699      2  Benign   458       NaN       NaN   \n",
              "\n",
              "                             min  25%  50%  75%   max  \n",
              "Clump Thickness              1.0  2.0  4.0  6.0  10.0  \n",
              "Uniformity of Cell Size      1.0  1.0  1.0  5.0  10.0  \n",
              "Uniformity of Cell Shape     1.0  1.0  1.0  5.0  10.0  \n",
              "Marginal Adhesion            1.0  1.0  1.0  4.0  10.0  \n",
              "Single Epithelial Cell Size  1.0  2.0  2.0  4.0  10.0  \n",
              "Bare Nuclei                  1.0  1.0  1.0  5.0  10.0  \n",
              "Bland Chromatin              1.0  2.0  3.0  5.0  10.0  \n",
              "Normal Nucleoli              1.0  1.0  1.0  4.0  10.0  \n",
              "Mitoses                      1.0  1.0  1.0  1.0  10.0  \n",
              "Class                        NaN  NaN  NaN  NaN   NaN  "
            ]
          },
          "execution_count": 13,
          "metadata": {},
          "output_type": "execute_result"
        }
      ],
      "source": [
        "df.describe(include='all').T"
      ]
    },
    {
      "cell_type": "code",
      "execution_count": null,
      "metadata": {
        "id": "__iIOl34RZYG"
      },
      "outputs": [],
      "source": []
    },
    {
      "cell_type": "code",
      "execution_count": 14,
      "metadata": {
        "id": "BFAwrZZ2OJmu"
      },
      "outputs": [],
      "source": [
        "features=['Clump Thickness','Uniformity of Cell Size',\t'Uniformity of Cell Shape',\t'Marginal Adhesion','Single Epithelial Cell Size','Bare Nuclei','Bland Chromatin','Normal Nucleoli','Mitoses']\n",
        "\n",
        "label='Class'"
      ]
    },
    {
      "cell_type": "code",
      "execution_count": 15,
      "metadata": {
        "id": "j4CGe7FoPuSN"
      },
      "outputs": [],
      "source": [
        "from sklearn.svm import SVC #algoritmo maquina soporte vecotrial\n",
        "from sklearn.preprocessing import LabelEncoder  #manipulacion de texto se convierta a numeros\n",
        "from sklearn.model_selection import train_test_split"
      ]
    },
    {
      "cell_type": "code",
      "execution_count": 16,
      "metadata": {
        "colab": {
          "base_uri": "https://localhost:8080/"
        },
        "id": "tJaEbbx7UBvJ",
        "outputId": "ee3cb58c-b105-4bcc-d9bc-3b61b13cc6d8"
      },
      "outputs": [
        {
          "data": {
            "text/plain": [
              "array([0, 0, 0, 0, 0, 1, 0, 0, 0, 0, 0, 0, 1, 0, 1, 1, 0, 0, 1, 0, 1, 1,\n",
              "       0, 1, 0, 1, 0, 0, 0, 0, 0, 0, 1, 0, 0, 0, 1, 0, 1, 1, 0, 1, 1, 1,\n",
              "       1, 0, 1, 0, 0, 1, 1, 1, 1, 1, 1, 1, 1, 1, 1, 1, 1, 0, 1, 1, 0, 1,\n",
              "       0, 1, 1, 0, 0, 1, 0, 1, 1, 0, 0, 0, 0, 0, 0, 0, 0, 0, 1, 1, 1, 1,\n",
              "       0, 0, 0, 0, 0, 0, 0, 0, 0, 0, 1, 1, 1, 1, 0, 1, 1, 1, 1, 1, 0, 1,\n",
              "       0, 1, 1, 1, 0, 0, 0, 1, 0, 0, 0, 0, 1, 1, 1, 0, 1, 0, 1, 0, 0, 0,\n",
              "       1, 0, 0, 0, 0, 0, 0, 0, 0, 0, 1, 0, 0, 0, 1, 0, 0, 1, 0, 1, 1, 0,\n",
              "       0, 1, 0, 0, 0, 1, 1, 0, 0, 0, 0, 0, 1, 1, 0, 0, 0, 0, 0, 1, 1, 1,\n",
              "       0, 1, 0, 1, 0, 0, 0, 1, 1, 0, 1, 1, 1, 0, 1, 1, 0, 0, 0, 0, 0, 0,\n",
              "       0, 0, 1, 1, 0, 0, 0, 1, 1, 0, 0, 0, 1, 1, 0, 1, 1, 1, 0, 0, 1, 0,\n",
              "       0, 1, 1, 1, 1, 0, 1, 1, 0, 1, 1, 1, 0, 1, 0, 0, 1, 1, 1, 1, 0, 0,\n",
              "       0, 0, 0, 0, 1, 1, 0, 0, 0, 1, 0, 1, 1, 1, 0, 0, 0, 0, 1, 1, 1, 1,\n",
              "       1, 0, 1, 1, 1, 0, 1, 0, 1, 1, 0, 0, 0, 0, 0, 1, 0, 0, 1, 1, 1, 1,\n",
              "       1, 0, 1, 1, 0, 0, 1, 1, 0, 1, 0, 0, 0, 1, 1, 0, 1, 0, 1, 1, 0, 0,\n",
              "       1, 0, 0, 0, 1, 0, 0, 0, 1, 1, 0, 0, 1, 0, 0, 1, 0, 0, 1, 0, 1, 1,\n",
              "       1, 0, 0, 1, 1, 0, 1, 0, 0, 1, 1, 0, 0, 0, 1, 0, 0, 0, 1, 1, 0, 0,\n",
              "       0, 1, 0, 0, 1, 1, 1, 1, 1, 1, 0, 0, 0, 0, 1, 1, 0, 0, 0, 0, 0, 0,\n",
              "       0, 0, 0, 0, 0, 0, 0, 1, 0, 0, 0, 0, 1, 0, 0, 0, 0, 1, 0, 0, 0, 0,\n",
              "       0, 0, 0, 0, 1, 0, 0, 0, 0, 0, 0, 0, 0, 0, 0, 0, 1, 0, 1, 0, 1, 0,\n",
              "       0, 0, 0, 1, 0, 0, 0, 1, 0, 1, 0, 0, 0, 0, 0, 0, 0, 1, 1, 0, 0, 0,\n",
              "       1, 0, 0, 0, 0, 0, 0, 0, 0, 1, 0, 0, 0, 1, 0, 1, 1, 1, 0, 0, 0, 0,\n",
              "       0, 0, 0, 1, 1, 1, 0, 0, 0, 0, 0, 0, 0, 0, 0, 0, 0, 1, 0, 0, 1, 1,\n",
              "       0, 0, 0, 1, 1, 1, 0, 1, 0, 1, 0, 0, 0, 0, 0, 0, 0, 0, 0, 0, 0, 0,\n",
              "       1, 0, 0, 0, 0, 0, 0, 0, 1, 1, 0, 0, 0, 1, 0, 0, 1, 1, 0, 0, 0, 0,\n",
              "       0, 0, 1, 0, 0, 0, 0, 0, 0, 0, 0, 0, 0, 0, 0, 0, 0, 0, 1, 0, 0, 1,\n",
              "       0, 0, 0, 0, 0, 0, 0, 0, 0, 0, 0, 0, 0, 0, 0, 1, 0, 0, 1, 1, 1, 1,\n",
              "       0, 0, 1, 0, 0, 0, 0, 0, 0, 1, 1, 0, 0, 0, 1, 0, 1, 0, 1, 1, 1, 0,\n",
              "       1, 0, 0, 0, 0, 0, 0, 0, 0, 1, 1, 1, 0, 0, 1, 0, 1, 1, 1, 0, 0, 0,\n",
              "       0, 0, 0, 0, 0, 0, 0, 0, 0, 0, 1, 0, 0, 0, 0, 0, 0, 1, 0, 0, 1, 0,\n",
              "       0, 0, 0, 0, 0, 0, 0, 0, 0, 0, 1, 0, 0, 0, 0, 0, 0, 0, 0, 0, 1, 0,\n",
              "       0, 0, 0, 0, 0, 0, 0, 0, 1, 1, 1, 0, 0, 0, 0, 0, 0, 0, 0, 0, 1, 1,\n",
              "       0, 0, 0, 0, 0, 0, 0, 0, 0, 1, 0, 0, 0, 0, 1, 1, 1])"
            ]
          },
          "execution_count": 16,
          "metadata": {},
          "output_type": "execute_result"
        }
      ],
      "source": [
        "le=LabelEncoder()\n",
        "y=le.fit_transform(df[label])\n",
        "y"
      ]
    },
    {
      "cell_type": "code",
      "execution_count": 17,
      "metadata": {
        "id": "EPRwnOP8UDX_"
      },
      "outputs": [],
      "source": [
        "xtrain,xtest,ytrain,ytest=train_test_split(df[features],y,test_size=0.20,random_state=0)"
      ]
    },
    {
      "cell_type": "code",
      "execution_count": 18,
      "metadata": {
        "colab": {
          "base_uri": "https://localhost:8080/"
        },
        "id": "_1dhzNUSUFny",
        "outputId": "60831a99-82ab-4cb3-c910-b863bc65dadb"
      },
      "outputs": [
        {
          "name": "stdout",
          "output_type": "stream",
          "text": [
            "xtrain.shape:\n",
            "(559, 9)\n",
            "\n",
            "len(ytrain):\n",
            "559\n",
            "\n",
            "xtest.shape:\n",
            "(140, 9)\n",
            "\n",
            "len(ytest):\n",
            "140\n"
          ]
        }
      ],
      "source": [
        "print('xtrain.shape:')\n",
        "print(xtrain.shape)\n",
        "\n",
        "print('\\nlen(ytrain):')\n",
        "print(len(ytrain))\n",
        "\n",
        "print('\\nxtest.shape:')\n",
        "print(xtest.shape)\n",
        "\n",
        "print('\\nlen(ytest):')\n",
        "print(len(ytest))"
      ]
    },
    {
      "cell_type": "code",
      "execution_count": 19,
      "metadata": {
        "id": "CBkvWxBxUXW_"
      },
      "outputs": [],
      "source": [
        "from sklearn.linear_model import LinearRegression"
      ]
    },
    {
      "cell_type": "code",
      "execution_count": 20,
      "metadata": {
        "id": "BVqQmq5TU1Q4"
      },
      "outputs": [],
      "source": [
        "svm = LinearRegression()\n",
        "modelo= svm.fit(xtrain, ytrain)\n",
        "prediccion = modelo.predict(xtest)"
      ]
    },
    {
      "cell_type": "code",
      "execution_count": 21,
      "metadata": {
        "colab": {
          "base_uri": "https://localhost:8080/"
        },
        "id": "af8i8BEsU2kS",
        "outputId": "d14cd647-474a-4659-faae-3de459046563"
      },
      "outputs": [
        {
          "name": "stdout",
          "output_type": "stream",
          "text": [
            "0  -->  0\n",
            "0  -->  0\n",
            "1  -->  0\n",
            "0  -->  0\n",
            "1  -->  1\n",
            "0  -->  0\n",
            "1  -->  1\n",
            "0  -->  0\n",
            "1  -->  1\n",
            "0  -->  1\n",
            "0  -->  0\n",
            "0  -->  0\n",
            "1  -->  1\n",
            "1  -->  1\n",
            "1  -->  1\n",
            "0  -->  0\n",
            "0  -->  0\n",
            "1  -->  1\n",
            "1  -->  1\n",
            "0  -->  0\n",
            "1  -->  1\n",
            "1  -->  1\n",
            "0  -->  0\n",
            "0  -->  0\n",
            "0  -->  0\n",
            "1  -->  1\n",
            "0  -->  0\n",
            "0  -->  0\n",
            "1  -->  1\n",
            "1  -->  0\n",
            "0  -->  0\n",
            "0  -->  0\n",
            "0  -->  0\n",
            "0  -->  0\n",
            "0  -->  0\n",
            "0  -->  0\n",
            "0  -->  0\n",
            "1  -->  1\n",
            "0  -->  0\n",
            "0  -->  0\n",
            "0  -->  0\n",
            "0  -->  0\n",
            "0  -->  0\n",
            "0  -->  0\n",
            "1  -->  1\n",
            "1  -->  1\n",
            "0  -->  0\n",
            "1  -->  1\n",
            "0  -->  0\n",
            "1  -->  1\n",
            "1  -->  1\n",
            "0  -->  0\n",
            "0  -->  0\n",
            "1  -->  1\n",
            "0  -->  0\n",
            "0  -->  0\n",
            "0  -->  0\n",
            "0  -->  0\n",
            "0  -->  0\n",
            "0  -->  0\n",
            "1  -->  1\n",
            "0  -->  0\n",
            "0  -->  0\n",
            "1  -->  1\n",
            "0  -->  1\n",
            "1  -->  1\n",
            "1  -->  1\n",
            "0  -->  0\n",
            "0  -->  0\n",
            "1  -->  1\n",
            "0  -->  0\n",
            "0  -->  0\n",
            "1  -->  1\n",
            "1  -->  1\n",
            "0  -->  0\n",
            "0  -->  0\n",
            "0  -->  0\n",
            "0  -->  0\n",
            "1  -->  1\n",
            "0  -->  0\n",
            "0  -->  0\n",
            "0  -->  0\n",
            "1  -->  1\n",
            "0  -->  0\n",
            "0  -->  0\n",
            "0  -->  0\n",
            "1  -->  1\n",
            "0  -->  0\n",
            "1  -->  1\n",
            "1  -->  1\n",
            "0  -->  0\n",
            "0  -->  1\n",
            "0  -->  0\n",
            "1  -->  1\n",
            "0  -->  0\n",
            "0  -->  0\n",
            "0  -->  0\n",
            "1  -->  1\n",
            "0  -->  0\n",
            "1  -->  1\n",
            "1  -->  1\n",
            "0  -->  0\n",
            "0  -->  0\n",
            "0  -->  0\n",
            "1  -->  1\n",
            "0  -->  0\n",
            "0  -->  0\n",
            "0  -->  0\n",
            "0  -->  0\n",
            "0  -->  0\n",
            "1  -->  1\n",
            "1  -->  1\n",
            "1  -->  1\n",
            "0  -->  0\n",
            "0  -->  0\n",
            "0  -->  0\n",
            "0  -->  0\n",
            "0  -->  0\n",
            "1  -->  1\n",
            "1  -->  1\n",
            "1  -->  1\n",
            "1  -->  1\n",
            "0  -->  0\n",
            "1  -->  1\n",
            "0  -->  0\n",
            "0  -->  0\n",
            "1  -->  1\n",
            "1  -->  1\n",
            "1  -->  1\n",
            "1  -->  1\n",
            "1  -->  1\n",
            "0  -->  0\n",
            "0  -->  0\n",
            "1  -->  1\n",
            "1  -->  1\n",
            "0  -->  0\n",
            "0  -->  0\n",
            "1  -->  1\n",
            "0  -->  0\n",
            "0  -->  0\n"
          ]
        }
      ],
      "source": [
        "# prediccion ~ ytest\n",
        "\n",
        "prediccion_lista =prediccion.tolist()\n",
        "\n",
        "ytest_lista = ytest.tolist()\n",
        "\n",
        "i = 0\n",
        "for pred in prediccion_lista:\n",
        "  print(round (pred), ' --> ', ytest_lista[i])\n",
        "  i += 1"
      ]
    },
    {
      "cell_type": "code",
      "execution_count": 22,
      "metadata": {
        "colab": {
          "base_uri": "https://localhost:8080/"
        },
        "id": "u2p0_HHMV5cO",
        "outputId": "5d23f64d-a0f0-43c8-c0e0-1dabf85c67cf"
      },
      "outputs": [
        {
          "name": "stdout",
          "output_type": "stream",
          "text": [
            "score:  0.8557012086454248\n"
          ]
        }
      ],
      "source": [
        "print('score: ', modelo.score(xtest, ytest))"
      ]
    },
    {
      "cell_type": "code",
      "execution_count": 23,
      "metadata": {
        "id": "gtV0qg6wV8CL"
      },
      "outputs": [],
      "source": [
        "from sklearn.metrics import mean_squared_error\n",
        "from sklearn.metrics import mean_absolute_error"
      ]
    },
    {
      "cell_type": "code",
      "execution_count": 24,
      "metadata": {
        "colab": {
          "base_uri": "https://localhost:8080/"
        },
        "id": "BVzcmPGnV986",
        "outputId": "a801ce6a-e195-4ab9-981d-3302db948e16"
      },
      "outputs": [
        {
          "name": "stdout",
          "output_type": "stream",
          "text": [
            "mean_squared_error 0.03441820661135915\n"
          ]
        }
      ],
      "source": [
        "print('mean_squared_error',mean_squared_error(prediccion,ytest))\n"
      ]
    },
    {
      "cell_type": "code",
      "execution_count": 25,
      "metadata": {
        "id": "4it6od6eV_Ys"
      },
      "outputs": [],
      "source": [
        "from sklearn.linear_model import Ridge"
      ]
    },
    {
      "cell_type": "code",
      "execution_count": 26,
      "metadata": {
        "id": "8HFXll-NWBj7"
      },
      "outputs": [],
      "source": [
        "svm = Ridge()\n",
        "modelo= svm.fit(xtrain, ytrain)\n",
        "prediccion = modelo.predict(xtest)"
      ]
    },
    {
      "cell_type": "code",
      "execution_count": 27,
      "metadata": {
        "colab": {
          "base_uri": "https://localhost:8080/"
        },
        "id": "qZ_aooofWC7S",
        "outputId": "cabcae75-72f6-413b-db81-462649308534"
      },
      "outputs": [
        {
          "name": "stdout",
          "output_type": "stream",
          "text": [
            "score:  0.8556970252408068\n",
            "mean_squared_error 0.03441920443873613\n"
          ]
        }
      ],
      "source": [
        "print('score: ', modelo.score(xtest, ytest))\n",
        "print('mean_squared_error',mean_squared_error(prediccion,ytest))"
      ]
    },
    {
      "cell_type": "code",
      "execution_count": 28,
      "metadata": {
        "id": "7C1CUY4YWEM7"
      },
      "outputs": [],
      "source": [
        "from sklearn.linear_model import LogisticRegression"
      ]
    },
    {
      "cell_type": "code",
      "execution_count": 29,
      "metadata": {
        "id": "ZNjK_u3BWGJL"
      },
      "outputs": [],
      "source": [
        "svm = LogisticRegression(max_iter=1000)\n",
        "modelo= svm.fit(xtrain, ytrain)\n",
        "prediccion = modelo.predict(xtest)"
      ]
    },
    {
      "cell_type": "code",
      "execution_count": 30,
      "metadata": {
        "colab": {
          "base_uri": "https://localhost:8080/"
        },
        "id": "IUX1zSedWHwU",
        "outputId": "be17384c-64f8-472d-c204-792490d78375"
      },
      "outputs": [
        {
          "name": "stdout",
          "output_type": "stream",
          "text": [
            "score:  0.9714285714285714\n",
            "mean_squared_error 0.02857142857142857\n"
          ]
        }
      ],
      "source": [
        "print('score: ', modelo.score(xtest, ytest))\n",
        "print('mean_squared_error',mean_squared_error(prediccion,ytest))"
      ]
    },
    {
      "cell_type": "code",
      "execution_count": 31,
      "metadata": {
        "id": "83W6MIT-WJDT"
      },
      "outputs": [],
      "source": [
        "from sklearn.linear_model import Lasso"
      ]
    },
    {
      "cell_type": "code",
      "execution_count": 32,
      "metadata": {
        "id": "J1Gstv1oWKuj"
      },
      "outputs": [],
      "source": [
        "svm = Lasso()\n",
        "modelo= svm.fit(xtrain, ytrain)\n",
        "prediccion = modelo.predict(xtest)"
      ]
    },
    {
      "cell_type": "code",
      "execution_count": 33,
      "metadata": {
        "colab": {
          "base_uri": "https://localhost:8080/"
        },
        "id": "UiYDvUIJWet1",
        "outputId": "d3cd9931-3765-44e7-9520-b5c4bf914e72"
      },
      "outputs": [
        {
          "name": "stdout",
          "output_type": "stream",
          "text": [
            "score:  0.31175169327628216\n",
            "mean_squared_error 0.1641612670374174\n"
          ]
        }
      ],
      "source": [
        "print('score: ', modelo.score(xtest, ytest))\n",
        "print('mean_squared_error',mean_squared_error(prediccion,ytest))"
      ]
    },
    {
      "cell_type": "code",
      "execution_count": 34,
      "metadata": {
        "id": "rcZADgXGWlzq"
      },
      "outputs": [],
      "source": [
        "from sklearn.linear_model import ElasticNet"
      ]
    },
    {
      "cell_type": "code",
      "execution_count": 35,
      "metadata": {
        "id": "0Uo_rA2xWgf7"
      },
      "outputs": [],
      "source": [
        "svm = ElasticNet()\n",
        "modelo= svm.fit(xtrain, ytrain)\n",
        "prediccion = modelo.predict(xtest)"
      ]
    },
    {
      "cell_type": "code",
      "execution_count": 36,
      "metadata": {
        "colab": {
          "base_uri": "https://localhost:8080/"
        },
        "id": "JifvYlJ7WqPt",
        "outputId": "8f30a14b-a553-40d8-b3e0-28ca5a512844"
      },
      "outputs": [
        {
          "name": "stdout",
          "output_type": "stream",
          "text": [
            "score:  0.6784219650777452\n",
            "mean_squared_error 0.07670292414599701\n"
          ]
        }
      ],
      "source": [
        "print('score: ', modelo.score(xtest, ytest))\n",
        "print('mean_squared_error',mean_squared_error(prediccion,ytest))"
      ]
    },
    {
      "cell_type": "code",
      "execution_count": 37,
      "metadata": {
        "id": "sI1dpa2RWrm4"
      },
      "outputs": [],
      "source": [
        "# archivo predict"
      ]
    },
    {
      "cell_type": "code",
      "execution_count": 38,
      "metadata": {
        "colab": {
          "base_uri": "https://localhost:8080/",
          "height": 424
        },
        "id": "8Smkh1UqY7vh",
        "outputId": "70223a81-b6d6-46a6-96a6-8a90648f55f8"
      },
      "outputs": [
        {
          "data": {
            "text/html": [
              "<div>\n",
              "<style scoped>\n",
              "    .dataframe tbody tr th:only-of-type {\n",
              "        vertical-align: middle;\n",
              "    }\n",
              "\n",
              "    .dataframe tbody tr th {\n",
              "        vertical-align: top;\n",
              "    }\n",
              "\n",
              "    .dataframe thead th {\n",
              "        text-align: right;\n",
              "    }\n",
              "</style>\n",
              "<table border=\"1\" class=\"dataframe\">\n",
              "  <thead>\n",
              "    <tr style=\"text-align: right;\">\n",
              "      <th></th>\n",
              "      <th>Clump Thickness</th>\n",
              "      <th>Uniformity of Cell Size</th>\n",
              "      <th>Uniformity of Cell Shape</th>\n",
              "      <th>Marginal Adhesion</th>\n",
              "      <th>Single Epithelial Cell Size</th>\n",
              "      <th>Bare Nuclei</th>\n",
              "      <th>Bland Chromatin</th>\n",
              "      <th>Normal Nucleoli</th>\n",
              "      <th>Mitoses</th>\n",
              "    </tr>\n",
              "  </thead>\n",
              "  <tbody>\n",
              "    <tr>\n",
              "      <th>0</th>\n",
              "      <td>5</td>\n",
              "      <td>1</td>\n",
              "      <td>1</td>\n",
              "      <td>1</td>\n",
              "      <td>2</td>\n",
              "      <td>1</td>\n",
              "      <td>3</td>\n",
              "      <td>1.0</td>\n",
              "      <td>1</td>\n",
              "    </tr>\n",
              "    <tr>\n",
              "      <th>1</th>\n",
              "      <td>5</td>\n",
              "      <td>4</td>\n",
              "      <td>4</td>\n",
              "      <td>5</td>\n",
              "      <td>7</td>\n",
              "      <td>10</td>\n",
              "      <td>3</td>\n",
              "      <td>2.0</td>\n",
              "      <td>1</td>\n",
              "    </tr>\n",
              "    <tr>\n",
              "      <th>2</th>\n",
              "      <td>3</td>\n",
              "      <td>1</td>\n",
              "      <td>1</td>\n",
              "      <td>1</td>\n",
              "      <td>2</td>\n",
              "      <td>2</td>\n",
              "      <td>3</td>\n",
              "      <td>1.0</td>\n",
              "      <td>1</td>\n",
              "    </tr>\n",
              "    <tr>\n",
              "      <th>3</th>\n",
              "      <td>6</td>\n",
              "      <td>8</td>\n",
              "      <td>8</td>\n",
              "      <td>1</td>\n",
              "      <td>3</td>\n",
              "      <td>4</td>\n",
              "      <td>3</td>\n",
              "      <td>7.0</td>\n",
              "      <td>1</td>\n",
              "    </tr>\n",
              "    <tr>\n",
              "      <th>4</th>\n",
              "      <td>4</td>\n",
              "      <td>1</td>\n",
              "      <td>1</td>\n",
              "      <td>3</td>\n",
              "      <td>2</td>\n",
              "      <td>1</td>\n",
              "      <td>3</td>\n",
              "      <td>1.0</td>\n",
              "      <td>1</td>\n",
              "    </tr>\n",
              "    <tr>\n",
              "      <th>...</th>\n",
              "      <td>...</td>\n",
              "      <td>...</td>\n",
              "      <td>...</td>\n",
              "      <td>...</td>\n",
              "      <td>...</td>\n",
              "      <td>...</td>\n",
              "      <td>...</td>\n",
              "      <td>...</td>\n",
              "      <td>...</td>\n",
              "    </tr>\n",
              "    <tr>\n",
              "      <th>94</th>\n",
              "      <td>2</td>\n",
              "      <td>1</td>\n",
              "      <td>1</td>\n",
              "      <td>1</td>\n",
              "      <td>2</td>\n",
              "      <td>1</td>\n",
              "      <td>3</td>\n",
              "      <td>1.0</td>\n",
              "      <td>1</td>\n",
              "    </tr>\n",
              "    <tr>\n",
              "      <th>95</th>\n",
              "      <td>NaN</td>\n",
              "      <td>1</td>\n",
              "      <td>1</td>\n",
              "      <td>1</td>\n",
              "      <td>2</td>\n",
              "      <td>NaN</td>\n",
              "      <td>3</td>\n",
              "      <td>1.0</td>\n",
              "      <td>1</td>\n",
              "    </tr>\n",
              "    <tr>\n",
              "      <th>96</th>\n",
              "      <td>2</td>\n",
              "      <td>1</td>\n",
              "      <td>1</td>\n",
              "      <td>2</td>\n",
              "      <td>2</td>\n",
              "      <td>1</td>\n",
              "      <td>1</td>\n",
              "      <td>1.0</td>\n",
              "      <td>1</td>\n",
              "    </tr>\n",
              "    <tr>\n",
              "      <th>97</th>\n",
              "      <td>5</td>\n",
              "      <td></td>\n",
              "      <td>NaN</td>\n",
              "      <td>1</td>\n",
              "      <td>2</td>\n",
              "      <td>1</td>\n",
              "      <td>3</td>\n",
              "      <td>1.0</td>\n",
              "      <td>1</td>\n",
              "    </tr>\n",
              "    <tr>\n",
              "      <th>98</th>\n",
              "      <td>9</td>\n",
              "      <td>6</td>\n",
              "      <td>9</td>\n",
              "      <td>2</td>\n",
              "      <td>10</td>\n",
              "      <td>6</td>\n",
              "      <td>2</td>\n",
              "      <td>9.0</td>\n",
              "      <td>10</td>\n",
              "    </tr>\n",
              "  </tbody>\n",
              "</table>\n",
              "<p>99 rows × 9 columns</p>\n",
              "</div>"
            ],
            "text/plain": [
              "   Clump Thickness Uniformity of Cell Size Uniformity of Cell Shape  \\\n",
              "0                5                       1                        1   \n",
              "1                5                       4                        4   \n",
              "2                3                       1                        1   \n",
              "3                6                       8                        8   \n",
              "4                4                       1                        1   \n",
              "..             ...                     ...                      ...   \n",
              "94               2                       1                        1   \n",
              "95             NaN                       1                        1   \n",
              "96               2                       1                        1   \n",
              "97               5                                              NaN   \n",
              "98               9                       6                        9   \n",
              "\n",
              "   Marginal Adhesion  Single Epithelial Cell Size Bare Nuclei Bland Chromatin  \\\n",
              "0                  1                            2           1               3   \n",
              "1                  5                            7          10               3   \n",
              "2                  1                            2           2               3   \n",
              "3                  1                            3           4               3   \n",
              "4                  3                            2           1               3   \n",
              "..               ...                          ...         ...             ...   \n",
              "94                 1                            2           1               3   \n",
              "95                 1                            2         NaN               3   \n",
              "96                 2                            2           1               1   \n",
              "97                 1                            2           1               3   \n",
              "98                 2                           10           6               2   \n",
              "\n",
              "    Normal Nucleoli Mitoses  \n",
              "0               1.0       1  \n",
              "1               2.0       1  \n",
              "2               1.0       1  \n",
              "3               7.0       1  \n",
              "4               1.0       1  \n",
              "..              ...     ...  \n",
              "94              1.0       1  \n",
              "95              1.0       1  \n",
              "96              1.0       1  \n",
              "97              1.0       1  \n",
              "98              9.0      10  \n",
              "\n",
              "[99 rows x 9 columns]"
            ]
          },
          "execution_count": 38,
          "metadata": {},
          "output_type": "execute_result"
        }
      ],
      "source": [
        "test = pd.read_csv('datasets/breast-cancer-wisconsin_predict.csv',sep=',',header=0)\n",
        "test"
      ]
    },
    {
      "cell_type": "code",
      "execution_count": 39,
      "metadata": {
        "colab": {
          "base_uri": "https://localhost:8080/",
          "height": 955
        },
        "id": "vceU8N9AZMmK",
        "outputId": "7e30f748-d7fd-468e-d61b-a2f17c856bf1"
      },
      "outputs": [
        {
          "data": {
            "text/plain": [
              "<Axes: >"
            ]
          },
          "execution_count": 39,
          "metadata": {},
          "output_type": "execute_result"
        },
        {
          "data": {
            "image/png": "[encoded data removed]",
            "text/plain": [
              "<Figure size 2500x1000 with 2 Axes>"
            ]
          },
          "metadata": {},
          "output_type": "display_data"
        }
      ],
      "source": [
        "\n",
        "msno.matrix(test)"
      ]
    },
    {
      "cell_type": "code",
      "execution_count": 40,
      "metadata": {
        "colab": {
          "base_uri": "https://localhost:8080/"
        },
        "id": "RcP6lUs-Zqne",
        "outputId": "dc3b7d7a-e84f-4196-c317-77dc095f32cc"
      },
      "outputs": [
        {
          "data": {
            "text/plain": [
              "Clump Thickness                1\n",
              "Uniformity of Cell Size        0\n",
              "Uniformity of Cell Shape       1\n",
              "Marginal Adhesion              0\n",
              "Single Epithelial Cell Size    0\n",
              "Bare Nuclei                    1\n",
              "Bland Chromatin                0\n",
              "Normal Nucleoli                1\n",
              "Mitoses                        0\n",
              "dtype: int64"
            ]
          },
          "execution_count": 40,
          "metadata": {},
          "output_type": "execute_result"
        }
      ],
      "source": [
        "test.isna().sum()"
      ]
    },
    {
      "cell_type": "code",
      "execution_count": 41,
      "metadata": {
        "colab": {
          "base_uri": "https://localhost:8080/"
        },
        "id": "WCzZk2_CZuWV",
        "outputId": "915612f4-1e39-4a0e-cc30-0619eebc83a4"
      },
      "outputs": [
        {
          "data": {
            "text/plain": [
              "Clump Thickness                 object\n",
              "Uniformity of Cell Size         object\n",
              "Uniformity of Cell Shape        object\n",
              "Marginal Adhesion               object\n",
              "Single Epithelial Cell Size      int64\n",
              "Bare Nuclei                     object\n",
              "Bland Chromatin                 object\n",
              "Normal Nucleoli                float64\n",
              "Mitoses                         object\n",
              "dtype: object"
            ]
          },
          "execution_count": 41,
          "metadata": {},
          "output_type": "execute_result"
        }
      ],
      "source": [
        "test.dtypes"
      ]
    },
    {
      "cell_type": "code",
      "execution_count": 42,
      "metadata": {
        "colab": {
          "base_uri": "https://localhost:8080/"
        },
        "id": "-pP-xLPxboSd",
        "outputId": "977d8129-5fc7-46b7-9685-1c4c97b555b3"
      },
      "outputs": [
        {
          "data": {
            "text/plain": [
              "Clump Thickness                False\n",
              "Uniformity of Cell Size        False\n",
              "Uniformity of Cell Shape       False\n",
              "Marginal Adhesion              False\n",
              "Single Epithelial Cell Size    False\n",
              "Bare Nuclei                    False\n",
              "Bland Chromatin                False\n",
              "Normal Nucleoli                False\n",
              "Mitoses                        False\n",
              "dtype: bool"
            ]
          },
          "execution_count": 42,
          "metadata": {},
          "output_type": "execute_result"
        }
      ],
      "source": [
        "\n",
        "test = test.replace('?', test.mode().iloc[0])\n",
        "(test == '?').any()\n",
        "\n",
        "\n",
        "test = test.replace('*', test.mode().iloc[0])\n",
        "(test == '*').any()\n",
        "\n",
        "test = test.replace(' ', test.mode().iloc[0])\n",
        "(test == ' ').any()\n",
        "\n"
      ]
    },
    {
      "cell_type": "code",
      "execution_count": 43,
      "metadata": {
        "id": "Kjih21bFZxTl"
      },
      "outputs": [],
      "source": [
        "test['Clump Thickness'] = pd.to_numeric(test['Clump Thickness'], errors='coerce')\n",
        "test['Clump Thickness'] = test['Clump Thickness'].astype('Int64')\n",
        "\n",
        "test['Uniformity of Cell Size'] = pd.to_numeric(test['Uniformity of Cell Size'], errors='coerce')\n",
        "test['Uniformity of Cell Size'] = test['Uniformity of Cell Size'].astype('Int64')\n",
        "\n",
        "test['Uniformity of Cell Shape'] = pd.to_numeric(test['Uniformity of Cell Shape'], errors='coerce')\n",
        "test['Uniformity of Cell Shape'] = test['Uniformity of Cell Shape'].astype('Int64')\n",
        "\n",
        "test['Marginal Adhesion'] = pd.to_numeric(test['Marginal Adhesion'], errors='coerce')\n",
        "test['Marginal Adhesion'] = test['Marginal Adhesion'].astype('Int64')\n",
        "\n",
        "\n",
        "test['Bare Nuclei'] = pd.to_numeric(test['Bare Nuclei'], errors='coerce')\n",
        "test['Bare Nuclei'] = test['Bare Nuclei'].astype('Int64')\n",
        "\n",
        "\n",
        "test['Bland Chromatin'] = pd.to_numeric(test['Bland Chromatin'], errors='coerce')\n",
        "test['Bland Chromatin'] = test['Bland Chromatin'].astype('Int64')\n",
        "\n",
        "\n",
        "test['Mitoses'] = pd.to_numeric(test['Mitoses'], errors='coerce')\n",
        "test['Mitoses'] = test['Mitoses'].astype('Int64')\n"
      ]
    },
    {
      "cell_type": "code",
      "execution_count": 44,
      "metadata": {
        "id": "L_6PZ67uaSDC"
      },
      "outputs": [],
      "source": [
        "test['Clump Thickness'].fillna(test['Clump Thickness'].mode()[0], inplace=True)\n",
        "test['Marginal Adhesion'].fillna(test['Marginal Adhesion'].mode()[0], inplace=True)\n",
        "test['Single Epithelial Cell Size'].fillna(test['Single Epithelial Cell Size'].mode()[0], inplace=True)\n",
        "test['Bare Nuclei'].fillna(test['Bare Nuclei'].mode()[0], inplace=True)\n",
        "test['Uniformity of Cell Shape'].fillna(test['Uniformity of Cell Shape'].mode()[0], inplace=True)\n",
        "test['Bland Chromatin'].fillna(test['Bland Chromatin'].mode()[0], inplace=True)\n",
        "test['Mitoses'].fillna(test['Mitoses'].mode()[0], inplace=True)\n",
        "test['Normal Nucleoli'].fillna(test['Normal Nucleoli'].mode()[0], inplace=True)"
      ]
    },
    {
      "cell_type": "code",
      "execution_count": 45,
      "metadata": {
        "colab": {
          "base_uri": "https://localhost:8080/",
          "height": 955
        },
        "id": "IgGhxl97acxX",
        "outputId": "5cbfc5e9-9f8d-4d05-df84-c164c7029724"
      },
      "outputs": [
        {
          "data": {
            "text/plain": [
              "<Axes: >"
            ]
          },
          "execution_count": 45,
          "metadata": {},
          "output_type": "execute_result"
        },
        {
          "data": {
            "image/png": "[encoded data removed]",
            "text/plain": [
              "<Figure size 2500x1000 with 2 Axes>"
            ]
          },
          "metadata": {},
          "output_type": "display_data"
        }
      ],
      "source": [
        "msno.matrix(test)"
      ]
    },
    {
      "cell_type": "code",
      "execution_count": 46,
      "metadata": {
        "colab": {
          "base_uri": "https://localhost:8080/"
        },
        "id": "vbUmurISauFK",
        "outputId": "dbf44369-f178-4225-9fdd-4161f9270530"
      },
      "outputs": [
        {
          "data": {
            "text/plain": [
              "Clump Thickness                0\n",
              "Uniformity of Cell Size        0\n",
              "Uniformity of Cell Shape       0\n",
              "Marginal Adhesion              0\n",
              "Single Epithelial Cell Size    0\n",
              "Bare Nuclei                    0\n",
              "Bland Chromatin                0\n",
              "Normal Nucleoli                0\n",
              "Mitoses                        0\n",
              "dtype: int64"
            ]
          },
          "execution_count": 46,
          "metadata": {},
          "output_type": "execute_result"
        }
      ],
      "source": [
        "test.isna().sum()"
      ]
    },
    {
      "cell_type": "code",
      "execution_count": 47,
      "metadata": {
        "id": "I3k9kra_auZT"
      },
      "outputs": [],
      "source": [
        "svm = LogisticRegression(max_iter=1000)\n",
        "modelo = svm.fit(xtrain, ytrain)"
      ]
    },
    {
      "cell_type": "code",
      "execution_count": 48,
      "metadata": {
        "id": "cWGEwQtccbRh"
      },
      "outputs": [],
      "source": [
        "predicciones_test = modelo.predict(test[features])"
      ]
    },
    {
      "cell_type": "code",
      "execution_count": 49,
      "metadata": {
        "id": "shFODUZ_cdO4"
      },
      "outputs": [],
      "source": [
        "predicciones_Transformadas = le.inverse_transform(predicciones_test)"
      ]
    },
    {
      "cell_type": "code",
      "execution_count": 50,
      "metadata": {
        "colab": {
          "base_uri": "https://localhost:8080/",
          "height": 424
        },
        "id": "h_Qv10sAdNV6",
        "outputId": "db3c7e3e-8104-4cb6-b1c3-c55babf6ac45"
      },
      "outputs": [
        {
          "data": {
            "text/html": [
              "<div>\n",
              "<style scoped>\n",
              "    .dataframe tbody tr th:only-of-type {\n",
              "        vertical-align: middle;\n",
              "    }\n",
              "\n",
              "    .dataframe tbody tr th {\n",
              "        vertical-align: top;\n",
              "    }\n",
              "\n",
              "    .dataframe thead th {\n",
              "        text-align: right;\n",
              "    }\n",
              "</style>\n",
              "<table border=\"1\" class=\"dataframe\">\n",
              "  <thead>\n",
              "    <tr style=\"text-align: right;\">\n",
              "      <th></th>\n",
              "      <th>Clump Thickness</th>\n",
              "      <th>Uniformity of Cell Size</th>\n",
              "      <th>Uniformity of Cell Shape</th>\n",
              "      <th>Marginal Adhesion</th>\n",
              "      <th>Single Epithelial Cell Size</th>\n",
              "      <th>Bare Nuclei</th>\n",
              "      <th>Bland Chromatin</th>\n",
              "      <th>Normal Nucleoli</th>\n",
              "      <th>Mitoses</th>\n",
              "    </tr>\n",
              "  </thead>\n",
              "  <tbody>\n",
              "    <tr>\n",
              "      <th>0</th>\n",
              "      <td>5</td>\n",
              "      <td>1</td>\n",
              "      <td>1</td>\n",
              "      <td>1</td>\n",
              "      <td>2</td>\n",
              "      <td>1</td>\n",
              "      <td>3</td>\n",
              "      <td>1.0</td>\n",
              "      <td>1</td>\n",
              "    </tr>\n",
              "    <tr>\n",
              "      <th>1</th>\n",
              "      <td>5</td>\n",
              "      <td>4</td>\n",
              "      <td>4</td>\n",
              "      <td>5</td>\n",
              "      <td>7</td>\n",
              "      <td>10</td>\n",
              "      <td>3</td>\n",
              "      <td>2.0</td>\n",
              "      <td>1</td>\n",
              "    </tr>\n",
              "    <tr>\n",
              "      <th>2</th>\n",
              "      <td>3</td>\n",
              "      <td>1</td>\n",
              "      <td>1</td>\n",
              "      <td>1</td>\n",
              "      <td>2</td>\n",
              "      <td>2</td>\n",
              "      <td>3</td>\n",
              "      <td>1.0</td>\n",
              "      <td>1</td>\n",
              "    </tr>\n",
              "    <tr>\n",
              "      <th>3</th>\n",
              "      <td>6</td>\n",
              "      <td>8</td>\n",
              "      <td>8</td>\n",
              "      <td>1</td>\n",
              "      <td>3</td>\n",
              "      <td>4</td>\n",
              "      <td>3</td>\n",
              "      <td>7.0</td>\n",
              "      <td>1</td>\n",
              "    </tr>\n",
              "    <tr>\n",
              "      <th>4</th>\n",
              "      <td>4</td>\n",
              "      <td>1</td>\n",
              "      <td>1</td>\n",
              "      <td>3</td>\n",
              "      <td>2</td>\n",
              "      <td>1</td>\n",
              "      <td>3</td>\n",
              "      <td>1.0</td>\n",
              "      <td>1</td>\n",
              "    </tr>\n",
              "    <tr>\n",
              "      <th>...</th>\n",
              "      <td>...</td>\n",
              "      <td>...</td>\n",
              "      <td>...</td>\n",
              "      <td>...</td>\n",
              "      <td>...</td>\n",
              "      <td>...</td>\n",
              "      <td>...</td>\n",
              "      <td>...</td>\n",
              "      <td>...</td>\n",
              "    </tr>\n",
              "    <tr>\n",
              "      <th>94</th>\n",
              "      <td>2</td>\n",
              "      <td>1</td>\n",
              "      <td>1</td>\n",
              "      <td>1</td>\n",
              "      <td>2</td>\n",
              "      <td>1</td>\n",
              "      <td>3</td>\n",
              "      <td>1.0</td>\n",
              "      <td>1</td>\n",
              "    </tr>\n",
              "    <tr>\n",
              "      <th>95</th>\n",
              "      <td>5</td>\n",
              "      <td>1</td>\n",
              "      <td>1</td>\n",
              "      <td>1</td>\n",
              "      <td>2</td>\n",
              "      <td>1</td>\n",
              "      <td>3</td>\n",
              "      <td>1.0</td>\n",
              "      <td>1</td>\n",
              "    </tr>\n",
              "    <tr>\n",
              "      <th>96</th>\n",
              "      <td>2</td>\n",
              "      <td>1</td>\n",
              "      <td>1</td>\n",
              "      <td>2</td>\n",
              "      <td>2</td>\n",
              "      <td>1</td>\n",
              "      <td>1</td>\n",
              "      <td>1.0</td>\n",
              "      <td>1</td>\n",
              "    </tr>\n",
              "    <tr>\n",
              "      <th>97</th>\n",
              "      <td>5</td>\n",
              "      <td>1</td>\n",
              "      <td>1</td>\n",
              "      <td>1</td>\n",
              "      <td>2</td>\n",
              "      <td>1</td>\n",
              "      <td>3</td>\n",
              "      <td>1.0</td>\n",
              "      <td>1</td>\n",
              "    </tr>\n",
              "    <tr>\n",
              "      <th>98</th>\n",
              "      <td>9</td>\n",
              "      <td>6</td>\n",
              "      <td>9</td>\n",
              "      <td>2</td>\n",
              "      <td>10</td>\n",
              "      <td>6</td>\n",
              "      <td>2</td>\n",
              "      <td>9.0</td>\n",
              "      <td>10</td>\n",
              "    </tr>\n",
              "  </tbody>\n",
              "</table>\n",
              "<p>99 rows × 9 columns</p>\n",
              "</div>"
            ],
            "text/plain": [
              "    Clump Thickness  Uniformity of Cell Size  Uniformity of Cell Shape  \\\n",
              "0                 5                        1                         1   \n",
              "1                 5                        4                         4   \n",
              "2                 3                        1                         1   \n",
              "3                 6                        8                         8   \n",
              "4                 4                        1                         1   \n",
              "..              ...                      ...                       ...   \n",
              "94                2                        1                         1   \n",
              "95                5                        1                         1   \n",
              "96                2                        1                         1   \n",
              "97                5                        1                         1   \n",
              "98                9                        6                         9   \n",
              "\n",
              "    Marginal Adhesion  Single Epithelial Cell Size  Bare Nuclei  \\\n",
              "0                   1                            2            1   \n",
              "1                   5                            7           10   \n",
              "2                   1                            2            2   \n",
              "3                   1                            3            4   \n",
              "4                   3                            2            1   \n",
              "..                ...                          ...          ...   \n",
              "94                  1                            2            1   \n",
              "95                  1                            2            1   \n",
              "96                  2                            2            1   \n",
              "97                  1                            2            1   \n",
              "98                  2                           10            6   \n",
              "\n",
              "    Bland Chromatin  Normal Nucleoli  Mitoses  \n",
              "0                 3              1.0        1  \n",
              "1                 3              2.0        1  \n",
              "2                 3              1.0        1  \n",
              "3                 3              7.0        1  \n",
              "4                 3              1.0        1  \n",
              "..              ...              ...      ...  \n",
              "94                3              1.0        1  \n",
              "95                3              1.0        1  \n",
              "96                1              1.0        1  \n",
              "97                3              1.0        1  \n",
              "98                2              9.0       10  \n",
              "\n",
              "[99 rows x 9 columns]"
            ]
          },
          "execution_count": 50,
          "metadata": {},
          "output_type": "execute_result"
        }
      ],
      "source": [
        "test"
      ]
    },
    {
      "cell_type": "code",
      "execution_count": 51,
      "metadata": {
        "id": "V6v65kk2dQUm"
      },
      "outputs": [],
      "source": [
        "test['Class'] = predicciones_Transformadas"
      ]
    },
    {
      "cell_type": "code",
      "execution_count": 52,
      "metadata": {
        "colab": {
          "base_uri": "https://localhost:8080/",
          "height": 424
        },
        "id": "6avighs-dTiO",
        "outputId": "e5f0cf11-bc25-415a-badd-4d4a0eb63ddd"
      },
      "outputs": [
        {
          "data": {
            "text/html": [
              "<div>\n",
              "<style scoped>\n",
              "    .dataframe tbody tr th:only-of-type {\n",
              "        vertical-align: middle;\n",
              "    }\n",
              "\n",
              "    .dataframe tbody tr th {\n",
              "        vertical-align: top;\n",
              "    }\n",
              "\n",
              "    .dataframe thead th {\n",
              "        text-align: right;\n",
              "    }\n",
              "</style>\n",
              "<table border=\"1\" class=\"dataframe\">\n",
              "  <thead>\n",
              "    <tr style=\"text-align: right;\">\n",
              "      <th></th>\n",
              "      <th>Clump Thickness</th>\n",
              "      <th>Uniformity of Cell Size</th>\n",
              "      <th>Uniformity of Cell Shape</th>\n",
              "      <th>Marginal Adhesion</th>\n",
              "      <th>Single Epithelial Cell Size</th>\n",
              "      <th>Bare Nuclei</th>\n",
              "      <th>Bland Chromatin</th>\n",
              "      <th>Normal Nucleoli</th>\n",
              "      <th>Mitoses</th>\n",
              "      <th>Class</th>\n",
              "    </tr>\n",
              "  </thead>\n",
              "  <tbody>\n",
              "    <tr>\n",
              "      <th>0</th>\n",
              "      <td>5</td>\n",
              "      <td>1</td>\n",
              "      <td>1</td>\n",
              "      <td>1</td>\n",
              "      <td>2</td>\n",
              "      <td>1</td>\n",
              "      <td>3</td>\n",
              "      <td>1.0</td>\n",
              "      <td>1</td>\n",
              "      <td>Benign</td>\n",
              "    </tr>\n",
              "    <tr>\n",
              "      <th>1</th>\n",
              "      <td>5</td>\n",
              "      <td>4</td>\n",
              "      <td>4</td>\n",
              "      <td>5</td>\n",
              "      <td>7</td>\n",
              "      <td>10</td>\n",
              "      <td>3</td>\n",
              "      <td>2.0</td>\n",
              "      <td>1</td>\n",
              "      <td>malignant</td>\n",
              "    </tr>\n",
              "    <tr>\n",
              "      <th>2</th>\n",
              "      <td>3</td>\n",
              "      <td>1</td>\n",
              "      <td>1</td>\n",
              "      <td>1</td>\n",
              "      <td>2</td>\n",
              "      <td>2</td>\n",
              "      <td>3</td>\n",
              "      <td>1.0</td>\n",
              "      <td>1</td>\n",
              "      <td>Benign</td>\n",
              "    </tr>\n",
              "    <tr>\n",
              "      <th>3</th>\n",
              "      <td>6</td>\n",
              "      <td>8</td>\n",
              "      <td>8</td>\n",
              "      <td>1</td>\n",
              "      <td>3</td>\n",
              "      <td>4</td>\n",
              "      <td>3</td>\n",
              "      <td>7.0</td>\n",
              "      <td>1</td>\n",
              "      <td>malignant</td>\n",
              "    </tr>\n",
              "    <tr>\n",
              "      <th>4</th>\n",
              "      <td>4</td>\n",
              "      <td>1</td>\n",
              "      <td>1</td>\n",
              "      <td>3</td>\n",
              "      <td>2</td>\n",
              "      <td>1</td>\n",
              "      <td>3</td>\n",
              "      <td>1.0</td>\n",
              "      <td>1</td>\n",
              "      <td>Benign</td>\n",
              "    </tr>\n",
              "    <tr>\n",
              "      <th>...</th>\n",
              "      <td>...</td>\n",
              "      <td>...</td>\n",
              "      <td>...</td>\n",
              "      <td>...</td>\n",
              "      <td>...</td>\n",
              "      <td>...</td>\n",
              "      <td>...</td>\n",
              "      <td>...</td>\n",
              "      <td>...</td>\n",
              "      <td>...</td>\n",
              "    </tr>\n",
              "    <tr>\n",
              "      <th>94</th>\n",
              "      <td>2</td>\n",
              "      <td>1</td>\n",
              "      <td>1</td>\n",
              "      <td>1</td>\n",
              "      <td>2</td>\n",
              "      <td>1</td>\n",
              "      <td>3</td>\n",
              "      <td>1.0</td>\n",
              "      <td>1</td>\n",
              "      <td>Benign</td>\n",
              "    </tr>\n",
              "    <tr>\n",
              "      <th>95</th>\n",
              "      <td>5</td>\n",
              "      <td>1</td>\n",
              "      <td>1</td>\n",
              "      <td>1</td>\n",
              "      <td>2</td>\n",
              "      <td>1</td>\n",
              "      <td>3</td>\n",
              "      <td>1.0</td>\n",
              "      <td>1</td>\n",
              "      <td>Benign</td>\n",
              "    </tr>\n",
              "    <tr>\n",
              "      <th>96</th>\n",
              "      <td>2</td>\n",
              "      <td>1</td>\n",
              "      <td>1</td>\n",
              "      <td>2</td>\n",
              "      <td>2</td>\n",
              "      <td>1</td>\n",
              "      <td>1</td>\n",
              "      <td>1.0</td>\n",
              "      <td>1</td>\n",
              "      <td>Benign</td>\n",
              "    </tr>\n",
              "    <tr>\n",
              "      <th>97</th>\n",
              "      <td>5</td>\n",
              "      <td>1</td>\n",
              "      <td>1</td>\n",
              "      <td>1</td>\n",
              "      <td>2</td>\n",
              "      <td>1</td>\n",
              "      <td>3</td>\n",
              "      <td>1.0</td>\n",
              "      <td>1</td>\n",
              "      <td>Benign</td>\n",
              "    </tr>\n",
              "    <tr>\n",
              "      <th>98</th>\n",
              "      <td>9</td>\n",
              "      <td>6</td>\n",
              "      <td>9</td>\n",
              "      <td>2</td>\n",
              "      <td>10</td>\n",
              "      <td>6</td>\n",
              "      <td>2</td>\n",
              "      <td>9.0</td>\n",
              "      <td>10</td>\n",
              "      <td>malignant</td>\n",
              "    </tr>\n",
              "  </tbody>\n",
              "</table>\n",
              "<p>99 rows × 10 columns</p>\n",
              "</div>"
            ],
            "text/plain": [
              "    Clump Thickness  Uniformity of Cell Size  Uniformity of Cell Shape  \\\n",
              "0                 5                        1                         1   \n",
              "1                 5                        4                         4   \n",
              "2                 3                        1                         1   \n",
              "3                 6                        8                         8   \n",
              "4                 4                        1                         1   \n",
              "..              ...                      ...                       ...   \n",
              "94                2                        1                         1   \n",
              "95                5                        1                         1   \n",
              "96                2                        1                         1   \n",
              "97                5                        1                         1   \n",
              "98                9                        6                         9   \n",
              "\n",
              "    Marginal Adhesion  Single Epithelial Cell Size  Bare Nuclei  \\\n",
              "0                   1                            2            1   \n",
              "1                   5                            7           10   \n",
              "2                   1                            2            2   \n",
              "3                   1                            3            4   \n",
              "4                   3                            2            1   \n",
              "..                ...                          ...          ...   \n",
              "94                  1                            2            1   \n",
              "95                  1                            2            1   \n",
              "96                  2                            2            1   \n",
              "97                  1                            2            1   \n",
              "98                  2                           10            6   \n",
              "\n",
              "    Bland Chromatin  Normal Nucleoli  Mitoses      Class  \n",
              "0                 3              1.0        1     Benign  \n",
              "1                 3              2.0        1  malignant  \n",
              "2                 3              1.0        1     Benign  \n",
              "3                 3              7.0        1  malignant  \n",
              "4                 3              1.0        1     Benign  \n",
              "..              ...              ...      ...        ...  \n",
              "94                3              1.0        1     Benign  \n",
              "95                3              1.0        1     Benign  \n",
              "96                1              1.0        1     Benign  \n",
              "97                3              1.0        1     Benign  \n",
              "98                2              9.0       10  malignant  \n",
              "\n",
              "[99 rows x 10 columns]"
            ]
          },
          "execution_count": 52,
          "metadata": {},
          "output_type": "execute_result"
        }
      ],
      "source": [
        "test"
      ]
    },
    {
      "cell_type": "code",
      "execution_count": 53,
      "metadata": {
        "id": "QrO2a1gkddpu"
      },
      "outputs": [],
      "source": [
        "#escogi el modelo de LogisticRegression ya que este cumple con los mejores parametros a comparacion de los demas modelos que se han testeado\n",
        "#dandorte un score alto y un margen de error menor el cual es ideal para poder trabajar con el\n",
        "#~~~~~~Gutierrez Mujica Francisco~~~~~~#"
      ]
    }
  ],
  "metadata": {
    "colab": {
      "provenance": []
    },
    "kernelspec": {
      "display_name": "Python 3",
      "name": "python3"
    },
    "language_info": {
      "codemirror_mode": {
        "name": "ipython",
        "version": 3
      },
      "file_extension": ".py",
      "mimetype": "text/x-python",
      "name": "python",
      "nbconvert_exporter": "python",
      "pygments_lexer": "ipython3",
      "version": "3.11.4"
    }
  },
  "nbformat": 4,
  "nbformat_minor": 0
}
