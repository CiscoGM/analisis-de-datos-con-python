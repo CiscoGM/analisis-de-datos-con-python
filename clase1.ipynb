{
 "cells": [
  {
   "cell_type": "code",
   "execution_count": null,
   "metadata": {},
   "outputs": [],
   "source": [
    "#este es mi primer hola mundo\n",
    "\n",
    "print (\"hola mundo\")"
   ]
  },
  {
   "cell_type": "code",
   "execution_count": 1,
   "metadata": {},
   "outputs": [
    {
     "data": {
      "text/plain": [
       "str"
      ]
     },
     "execution_count": 1,
     "metadata": {},
     "output_type": "execute_result"
    }
   ],
   "source": [
    "cadena='este es u texto'\n",
    "type(cadena)"
   ]
  },
  {
   "cell_type": "code",
   "execution_count": 3,
   "metadata": {},
   "outputs": [
    {
     "name": "stdout",
     "output_type": "stream",
     "text": [
      " esto es una cadena\n",
      "de muchas \n",
      "lineas\n"
     ]
    }
   ],
   "source": [
    "cadena=\"\"\" esto es una cadena\n",
    "de muchas \n",
    "lineas\"\"\"\n",
    "\n",
    "type(cadena)\n",
    "print(cadena)\n"
   ]
  },
  {
   "cell_type": "code",
   "execution_count": 9,
   "metadata": {},
   "outputs": [
    {
     "name": "stdout",
     "output_type": "stream",
     "text": [
      "1 <class 'int'>\n",
      "3.1416 <class 'float'>\n"
     ]
    },
    {
     "data": {
      "text/plain": [
       "tuple"
      ]
     },
     "execution_count": 9,
     "metadata": {},
     "output_type": "execute_result"
    }
   ],
   "source": [
    "entero=1\n",
    "print(entero,type(entero))\n",
    "flotante=3.1416\n",
    "print(flotante,type(flotante))\n",
    "flo=23,455\n",
    "type(flo)"
   ]
  },
  {
   "cell_type": "code",
   "execution_count": 13,
   "metadata": {},
   "outputs": [
    {
     "name": "stdout",
     "output_type": "stream",
     "text": [
      "(2345+12j)\n"
     ]
    },
    {
     "data": {
      "text/plain": [
       "complex"
      ]
     },
     "execution_count": 13,
     "metadata": {},
     "output_type": "execute_result"
    }
   ],
   "source": [
    "imaginario=2345+12j#para los nuemro imaginarios le ponermos en formato de suma con una j al final\n",
    "print(imaginario)\n",
    "type(imaginario)"
   ]
  },
  {
   "cell_type": "code",
   "execution_count": 15,
   "metadata": {},
   "outputs": [
    {
     "data": {
      "text/plain": [
       "(2468.3+12j)"
      ]
     },
     "execution_count": 15,
     "metadata": {},
     "output_type": "execute_result"
    }
   ],
   "source": [
    "imaginario + 123.3   #solo sumara la parte verdadera\n"
   ]
  },
  {
   "cell_type": "code",
   "execution_count": 6,
   "metadata": {},
   "outputs": [
    {
     "name": "stdout",
     "output_type": "stream",
     "text": [
      "si 12 sada\n",
      "<class 'str'> <class 'str'> <class 'str'>\n"
     ]
    }
   ],
   "source": [
    "#nombre\n",
    "name=input('dame tu nombre')\n",
    "#edad\n",
    "edad=input('dame tu edad')\n",
    "#correp\n",
    "correo=input('dame tu correo institucional')\n",
    "print(name,edad,correo)\n",
    "print(type(name),type(edad),type(correo))\n",
    "    "
   ]
  },
  {
   "cell_type": "code",
   "execution_count": 14,
   "metadata": {},
   "outputs": [
    {
     "name": "stdout",
     "output_type": "stream",
     "text": [
      "<class 'int'>\n"
     ]
    },
    {
     "data": {
      "text/plain": [
       "int"
      ]
     },
     "execution_count": 14,
     "metadata": {},
     "output_type": "execute_result"
    }
   ],
   "source": [
    "edad\n",
    "#print(type(edad))\n",
    "edad=int(edad)\n",
    "print(type(edad))\n",
    "\n",
    "years=int(input('dame una edad'))\n",
    "type(years)\n",
    "\n"
   ]
  },
  {
   "cell_type": "code",
   "execution_count": 6,
   "metadata": {},
   "outputs": [
    {
     "data": {
      "text/plain": [
       "0"
      ]
     },
     "execution_count": 6,
     "metadata": {},
     "output_type": "execute_result"
    }
   ],
   "source": [
    "#listas y tuplas \n",
    "# en python no existen las matrices\n",
    "\n",
    "lista=[]\n",
    "type(lista)\n",
    "len(lista)\n",
    "\n"
   ]
  },
  {
   "cell_type": "code",
   "execution_count": 11,
   "metadata": {},
   "outputs": [
    {
     "data": {
      "text/plain": [
       "3"
      ]
     },
     "execution_count": 11,
     "metadata": {},
     "output_type": "execute_result"
    }
   ],
   "source": [
    "lista=[]\n",
    "lista.append(1234)\n",
    "lista.append(12)\n",
    "lista.append(45) \n",
    "type(lista)\n",
    "len(lista)\n"
   ]
  },
  {
   "cell_type": "code",
   "execution_count": 17,
   "metadata": {},
   "outputs": [
    {
     "name": "stdout",
     "output_type": "stream",
     "text": [
      "45\n",
      "45\n"
     ]
    }
   ],
   "source": [
    "lista=[12,45,67,890]\n",
    "len(lista)\n",
    "print(lista[1])\n",
    "print(lista[-3])#para obtenre el elemento final ponemos en numero negaivos para contar de der a izq\n"
   ]
  },
  {
   "cell_type": "code",
   "execution_count": 25,
   "metadata": {},
   "outputs": [
    {
     "name": "stdout",
     "output_type": "stream",
     "text": [
      "[12, 45, 67, 890]\n",
      "[67, 890]\n",
      "[45]\n"
     ]
    }
   ],
   "source": [
    "#como obtner los ultimos numeros de elementos\n",
    "print(lista)\n",
    "print(lista[2:])\n",
    "print(lista[1:2])\n"
   ]
  },
  {
   "cell_type": "code",
   "execution_count": 27,
   "metadata": {},
   "outputs": [],
   "source": [
    "lista2=lista.copy#para copiar una lista o simplemente lsita2=lista\n"
   ]
  },
  {
   "cell_type": "code",
   "execution_count": 31,
   "metadata": {},
   "outputs": [
    {
     "name": "stdout",
     "output_type": "stream",
     "text": [
      "[12, 45, 67, 12345678]\n"
     ]
    },
    {
     "data": {
      "text/plain": [
       "12345678"
      ]
     },
     "execution_count": 31,
     "metadata": {},
     "output_type": "execute_result"
    }
   ],
   "source": [
    "lista2[3]=12345678\n",
    "print(lista2)\n",
    "lista[3]"
   ]
  },
  {
   "cell_type": "code",
   "execution_count": 45,
   "metadata": {},
   "outputs": [
    {
     "name": "stdout",
     "output_type": "stream",
     "text": [
      "[12, 45, 67, 12345678]\n"
     ]
    },
    {
     "data": {
      "text/plain": [
       "[12, 12, 45, 67, 12345678, 12345678]"
      ]
     },
     "execution_count": 45,
     "metadata": {},
     "output_type": "execute_result"
    }
   ],
   "source": [
    "print(lista2)\n",
    "lista2[1:3]=lista2\n",
    "lista2"
   ]
  },
  {
   "cell_type": "code",
   "execution_count": 44,
   "metadata": {},
   "outputs": [
    {
     "name": "stdout",
     "output_type": "stream",
     "text": [
      "[123, 'cadena', 6789.789]\n",
      "cadena1\n"
     ]
    }
   ],
   "source": [
    "lista3=[123,'cadena',6789.789]\n",
    "print(lista3)\n",
    "lista3[1]+=str(1)\n",
    "print(lista3[1])"
   ]
  },
  {
   "cell_type": "code",
   "execution_count": 88,
   "metadata": {},
   "outputs": [
    {
     "name": "stdout",
     "output_type": "stream",
     "text": [
      "0\n",
      "3\n",
      "6\n",
      "9\n"
     ]
    }
   ],
   "source": [
    "#for(int x=0;x>=10;x++):\n",
    "#print(range(10))\n",
    "for a in range(0,10,3):#inicie en 0 tope en 10, y vaya de n en n\n",
    "    print(a)\n",
    "    "
   ]
  },
  {
   "cell_type": "code",
   "execution_count": 86,
   "metadata": {},
   "outputs": [
    {
     "name": "stdout",
     "output_type": "stream",
     "text": [
      "2\n"
     ]
    }
   ],
   "source": [
    "x=1\n",
    "x+=1\n",
    "print(x)"
   ]
  },
  {
   "cell_type": "code",
   "execution_count": 117,
   "metadata": {},
   "outputs": [
    {
     "name": "stdout",
     "output_type": "stream",
     "text": [
      "[345, 3, 765, 890, 343]\n",
      "9734\n"
     ]
    }
   ],
   "source": [
    "\n",
    "\"\"\" for a in range(6):\n",
    "   print(lista[a])\n",
    "   \"\"\"\n",
    "lista4=[345,3,765,890,343] \n",
    "#sumar todos los elementos de un arreglo\n",
    "print(lista4)\n",
    "for a in range(len(lista4)):\n",
    "   suma+=lista4[a]\n",
    "print(suma)\n",
    "\n",
    "   "
   ]
  },
  {
   "cell_type": "code",
   "execution_count": 126,
   "metadata": {},
   "outputs": [
    {
     "name": "stdout",
     "output_type": "stream",
     "text": [
      "4765.0\n"
     ]
    }
   ],
   "source": [
    "lista8=[1,2,3,4,5] \n",
    "for x in range(len(lista4)):\n",
    "    suma+=lista8[x]\n",
    "promedio=suma/len(lista8)\n",
    "print(promedio)\n"
   ]
  }
 ],
 "metadata": {
  "kernelspec": {
   "display_name": "Python 3",
   "language": "python",
   "name": "python3"
  },
  "language_info": {
   "codemirror_mode": {
    "name": "ipython",
    "version": 3
   },
   "file_extension": ".py",
   "mimetype": "text/x-python",
   "name": "python",
   "nbconvert_exporter": "python",
   "pygments_lexer": "ipython3",
   "version": "3.11.4"
  },
  "orig_nbformat": 4
 },
 "nbformat": 4,
 "nbformat_minor": 2
}
